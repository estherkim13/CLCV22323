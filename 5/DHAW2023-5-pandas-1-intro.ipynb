{
 "cells": [
  {
   "cell_type": "markdown",
   "id": "0c8e2ac7",
   "metadata": {},
   "source": [
    "## Pandas and CSV/EXCEL"
   ]
  },
  {
   "cell_type": "markdown",
   "id": "77233ab4",
   "metadata": {},
   "source": [
    "#### Libraries - Imports"
   ]
  },
  {
   "cell_type": "code",
   "execution_count": null,
   "id": "20aa59fd",
   "metadata": {},
   "outputs": [],
   "source": [
    "# pip install pandas"
   ]
  },
  {
   "cell_type": "code",
   "execution_count": null,
   "id": "dd048359",
   "metadata": {},
   "outputs": [],
   "source": [
    " # This is a convention in Python community."
   ]
  },
  {
   "cell_type": "markdown",
   "id": "8af336a0",
   "metadata": {},
   "source": [
    "#### Read"
   ]
  },
  {
   "cell_type": "markdown",
   "id": "4c8ddf8e",
   "metadata": {},
   "source": [
    "Download the csv of [Roman Amphitheaters](https://github.com/roman-amphitheaters/roman-amphitheaters/blob/main/roman-amphitheaters.csv)"
   ]
  },
  {
   "cell_type": "code",
   "execution_count": null,
   "id": "b37f89cb",
   "metadata": {},
   "outputs": [],
   "source": [
    " # df stands for dataframe, i.e., row and columns of data."
   ]
  },
  {
   "cell_type": "code",
   "execution_count": null,
   "id": "c20c15a1",
   "metadata": {},
   "outputs": [],
   "source": []
  },
  {
   "cell_type": "code",
   "execution_count": null,
   "id": "957b78fd",
   "metadata": {},
   "outputs": [],
   "source": []
  },
  {
   "cell_type": "code",
   "execution_count": null,
   "id": "9703070c",
   "metadata": {},
   "outputs": [],
   "source": []
  },
  {
   "cell_type": "markdown",
   "id": "682c9941",
   "metadata": {},
   "source": [
    "#### Data types in our csv"
   ]
  },
  {
   "cell_type": "code",
   "execution_count": null,
   "id": "eca38ded",
   "metadata": {},
   "outputs": [],
   "source": [
    "df.shape # notice that this is an attribute so no parentheses"
   ]
  },
  {
   "cell_type": "code",
   "execution_count": null,
   "id": "caada7ac",
   "metadata": {},
   "outputs": [],
   "source": [
    "df.info() # notice that this is a methon, so we need parentheses"
   ]
  },
  {
   "cell_type": "code",
   "execution_count": null,
   "id": "f1f2b695",
   "metadata": {},
   "outputs": [],
   "source": [
    "pd.set_option('display.max_rows', 500)\n",
    "pd.set_option('display.max_columns', 500)\n",
    "pd.set_option('display.width', 1000)"
   ]
  },
  {
   "cell_type": "markdown",
   "id": "1d881d32",
   "metadata": {},
   "source": [
    "### Example: Shipwrecks Database"
   ]
  },
  {
   "cell_type": "markdown",
   "id": "e00ed8c9",
   "metadata": {},
   "source": [
    "Download the [Shipwrecks Database](http://oxrep.classics.ox.ac.uk/docs/StraussShipwrecks.zip) for the [The Oxford Roman Economy Project](http://oxrep.classics.ox.ac.uk/). "
   ]
  },
  {
   "cell_type": "code",
   "execution_count": null,
   "id": "f9d4e8d4",
   "metadata": {},
   "outputs": [],
   "source": []
  },
  {
   "cell_type": "code",
   "execution_count": null,
   "id": "a27c2093",
   "metadata": {},
   "outputs": [],
   "source": []
  },
  {
   "cell_type": "markdown",
   "id": "6613f0ff",
   "metadata": {},
   "source": [
    "#### Access one column"
   ]
  },
  {
   "cell_type": "code",
   "execution_count": null,
   "id": "6a416ad1",
   "metadata": {},
   "outputs": [],
   "source": []
  },
  {
   "cell_type": "markdown",
   "id": "4ab8df50",
   "metadata": {},
   "source": [
    "#### What datatype is this?"
   ]
  },
  {
   "cell_type": "code",
   "execution_count": null,
   "id": "61375761",
   "metadata": {},
   "outputs": [],
   "source": []
  },
  {
   "cell_type": "markdown",
   "id": "2ef984b1",
   "metadata": {},
   "source": [
    "#### Access two columns"
   ]
  },
  {
   "cell_type": "code",
   "execution_count": null,
   "id": "cb3f421a",
   "metadata": {},
   "outputs": [],
   "source": []
  },
  {
   "cell_type": "markdown",
   "id": "325c7c81",
   "metadata": {},
   "source": [
    "Check [here](https://www.w3schools.com/python/pandas/pandas_series.asp)."
   ]
  },
  {
   "cell_type": "markdown",
   "id": "5feb0fab",
   "metadata": {},
   "source": [
    "#### What datatype is this now?"
   ]
  },
  {
   "cell_type": "code",
   "execution_count": null,
   "id": "ce9195e8",
   "metadata": {},
   "outputs": [],
   "source": []
  },
  {
   "cell_type": "markdown",
   "id": "47acf9c8",
   "metadata": {},
   "source": [
    "#### Get all columns"
   ]
  },
  {
   "cell_type": "code",
   "execution_count": null,
   "id": "003b5903",
   "metadata": {},
   "outputs": [],
   "source": [
    "df"
   ]
  },
  {
   "cell_type": "markdown",
   "id": "9ea2ac31",
   "metadata": {},
   "source": [
    "### Get all rows\n",
    "- iloc (integer location)\n",
    "- loc"
   ]
  },
  {
   "cell_type": "markdown",
   "id": "73032866",
   "metadata": {},
   "source": [
    "### 1) iloc"
   ]
  },
  {
   "cell_type": "code",
   "execution_count": null,
   "id": "df067ff2",
   "metadata": {},
   "outputs": [],
   "source": []
  },
  {
   "cell_type": "markdown",
   "id": "8392da4b",
   "metadata": {},
   "source": [
    "#### How can we get the first two rows?"
   ]
  },
  {
   "cell_type": "code",
   "execution_count": null,
   "id": "7b447287",
   "metadata": {},
   "outputs": [],
   "source": []
  },
  {
   "cell_type": "markdown",
   "id": "87390de7",
   "metadata": {},
   "source": [
    "#### How can we get the first column of the above df?"
   ]
  },
  {
   "cell_type": "code",
   "execution_count": null,
   "id": "4001feb5",
   "metadata": {},
   "outputs": [],
   "source": []
  },
  {
   "cell_type": "markdown",
   "id": "0b054d28",
   "metadata": {},
   "source": [
    "### 2) loc\n",
    "In this way, we do not get the first, second, etc., row. We get the row that has the index we specify."
   ]
  },
  {
   "cell_type": "code",
   "execution_count": null,
   "id": "3866d872",
   "metadata": {},
   "outputs": [],
   "source": []
  },
  {
   "cell_type": "markdown",
   "id": "f8c0d476",
   "metadata": {},
   "source": [
    "### Let's grab some data"
   ]
  },
  {
   "cell_type": "markdown",
   "id": "f02b86c7",
   "metadata": {},
   "source": [
    "#### Get the Country column"
   ]
  },
  {
   "cell_type": "code",
   "execution_count": null,
   "id": "1bee83f5",
   "metadata": {},
   "outputs": [],
   "source": []
  },
  {
   "cell_type": "markdown",
   "id": "02d7e21e",
   "metadata": {},
   "source": [
    "#### Count with `.value_counts()`"
   ]
  },
  {
   "cell_type": "code",
   "execution_count": null,
   "id": "11c79d10",
   "metadata": {},
   "outputs": [],
   "source": []
  },
  {
   "cell_type": "markdown",
   "id": "4000f633",
   "metadata": {},
   "source": [
    "### Set index `.set_index()`"
   ]
  },
  {
   "cell_type": "code",
   "execution_count": null,
   "id": "75e4bd44",
   "metadata": {},
   "outputs": [],
   "source": []
  },
  {
   "cell_type": "markdown",
   "id": "d2b877ab",
   "metadata": {},
   "source": [
    "#### Did the original dataframe change?"
   ]
  },
  {
   "cell_type": "code",
   "execution_count": null,
   "id": "1d64f4ae",
   "metadata": {},
   "outputs": [],
   "source": []
  },
  {
   "cell_type": "markdown",
   "id": "c7d15d54",
   "metadata": {},
   "source": [
    "#### let's put the parameter `inplace=True`"
   ]
  },
  {
   "cell_type": "code",
   "execution_count": null,
   "id": "c49b90f6",
   "metadata": {},
   "outputs": [],
   "source": []
  },
  {
   "cell_type": "markdown",
   "id": "9036e00b",
   "metadata": {},
   "source": [
    "#### What will happen of I look for `df.loc[0]`?"
   ]
  },
  {
   "cell_type": "code",
   "execution_count": null,
   "id": "d3957d9e",
   "metadata": {},
   "outputs": [],
   "source": []
  },
  {
   "cell_type": "markdown",
   "id": "814583c8",
   "metadata": {},
   "source": [
    "#### Let's reset the index"
   ]
  },
  {
   "cell_type": "code",
   "execution_count": null,
   "id": "3e7856a5",
   "metadata": {},
   "outputs": [],
   "source": []
  },
  {
   "cell_type": "code",
   "execution_count": null,
   "id": "77214750",
   "metadata": {},
   "outputs": [],
   "source": []
  },
  {
   "cell_type": "markdown",
   "id": "9bf59354",
   "metadata": {},
   "source": [
    "### Sort `.sort_index(ascending=False)`"
   ]
  },
  {
   "cell_type": "code",
   "execution_count": null,
   "id": "8cd2087a",
   "metadata": {},
   "outputs": [],
   "source": []
  },
  {
   "cell_type": "markdown",
   "id": "f19a6463",
   "metadata": {},
   "source": [
    "## Filter"
   ]
  },
  {
   "cell_type": "markdown",
   "id": "8fa0cb2a",
   "metadata": {},
   "source": [
    "#### what's the result of the below statement?"
   ]
  },
  {
   "cell_type": "code",
   "execution_count": null,
   "id": "4af4ac34",
   "metadata": {},
   "outputs": [],
   "source": []
  },
  {
   "cell_type": "code",
   "execution_count": null,
   "id": "8dd3a0f2",
   "metadata": {},
   "outputs": [],
   "source": []
  },
  {
   "cell_type": "markdown",
   "id": "d24b350e",
   "metadata": {},
   "source": [
    "#### What about if we want everything but Greece?"
   ]
  },
  {
   "cell_type": "code",
   "execution_count": null,
   "id": "b2c7eee7",
   "metadata": {},
   "outputs": [],
   "source": []
  },
  {
   "cell_type": "markdown",
   "id": "08f21096",
   "metadata": {},
   "source": [
    "#### Combine two filters with `&` = `and`"
   ]
  },
  {
   "cell_type": "code",
   "execution_count": null,
   "id": "57fa41c7",
   "metadata": {},
   "outputs": [],
   "source": []
  },
  {
   "cell_type": "markdown",
   "id": "ab73c361",
   "metadata": {},
   "source": [
    "#### Combine two filters with `|` = `or`"
   ]
  },
  {
   "cell_type": "code",
   "execution_count": null,
   "id": "509fd5ba",
   "metadata": {},
   "outputs": [],
   "source": []
  }
 ],
 "metadata": {
  "kernelspec": {
   "display_name": "Python 3 (ipykernel)",
   "language": "python",
   "name": "python3"
  },
  "language_info": {
   "codemirror_mode": {
    "name": "ipython",
    "version": 3
   },
   "file_extension": ".py",
   "mimetype": "text/x-python",
   "name": "python",
   "nbconvert_exporter": "python",
   "pygments_lexer": "ipython3",
   "version": "3.9.18"
  }
 },
 "nbformat": 4,
 "nbformat_minor": 5
}
