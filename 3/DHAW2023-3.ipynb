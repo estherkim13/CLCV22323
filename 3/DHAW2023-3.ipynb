{
 "cells": [
  {
   "cell_type": "markdown",
   "id": "ecfc9cc3",
   "metadata": {},
   "source": [
    "# Introduction to Python <a class=\"anchor\" id=\"Introduction_to_Python\"></a>\n",
    "* [Program](#Program)\n",
    "* [Jupyter Notebook](#Jupyter_Notebook)\n",
    "* [Arithmetic operators](#Arithmetic_operators)\n",
    "* [Assignment](#Assignment)\n",
    "* [Python types](#Python_types)\n",
    "* [Variables, expressions and statements](#Variables_expressions_and_statements)\n",
    "* [Strings](#Strings)\n",
    "* [Lists](#Lists)\n",
    "* [Functions](#imports)\n",
    "* [if, else, elif, while](#if_else_elif_while)"
   ]
  },
  {
   "cell_type": "markdown",
   "id": "5d3bd68c",
   "metadata": {},
   "source": [
    "---"
   ]
  },
  {
   "cell_type": "markdown",
   "id": "11ab8300",
   "metadata": {},
   "source": [
    "## [Program](#Introduction_to_Python)\n",
    "\n",
    "#### What is a program?\n",
    "Program is sequence of instructions to perform a certain task.\n",
    "\n",
    "#### Basic parts of a program\n",
    "_input_\n",
    "\n",
    "_data manipulation_\n",
    "\n",
    "_math_\n",
    "\n",
    "_control flow_\n",
    "\n",
    "_interaction with other software of hardware_\n",
    "\n",
    "_output_\n"
   ]
  },
  {
   "cell_type": "markdown",
   "id": "5558547b",
   "metadata": {},
   "source": [
    "---"
   ]
  },
  {
   "cell_type": "markdown",
   "id": "708ba0cf",
   "metadata": {},
   "source": [
    "## [Jupyter Notebook](#Introduction_to_Python) <a class=\"anchor\" id=\"Jupyter_Notebook\"></a>\n",
    "\n",
    "#### How to run Jupyter Notebook\n",
    "1. Install and run Jupyter Notebook and \n",
    "2. Navigate to the directory where your ipynb file is located.\n",
    "3. Click on the ipynb file to open it in Jupyter Notebook.\n",
    "\n",
    "#### What is a ipynb file\n",
    "`ipynb` is a file extenstion and stands for “Interactive Python Notebook.”\n",
    "\n",
    "#### What is Jupyter Notebook\n",
    "`Jupyter Notebook` is an open-source web application that allows users to create and share documents that contain live code, visualizations, and text.\n",
    "\n",
    "#### Applications that run Jupyter Notebook files\n",
    "- Jupyter Notebook\n",
    "- JupyterLab\n",
    "- Google Colaboratory\n",
    "- Visual Studio Code\n",
    "- and more others"
   ]
  },
  {
   "cell_type": "markdown",
   "id": "c900c48c",
   "metadata": {},
   "source": [
    "#### Print statement: Hello, World!"
   ]
  },
  {
   "cell_type": "code",
   "execution_count": 2,
   "id": "7bf68bac",
   "metadata": {},
   "outputs": [
    {
     "name": "stdout",
     "output_type": "stream",
     "text": [
      "Hello, World!\n"
     ]
    }
   ],
   "source": [
    "print(\"Hello, World!\")"
   ]
  },
  {
   "cell_type": "markdown",
   "id": "756f4b20",
   "metadata": {},
   "source": [
    "---"
   ]
  },
  {
   "cell_type": "markdown",
   "id": "637746b0",
   "metadata": {},
   "source": [
    "## [Arithmetic operators](#Introduction_to_Python) <a class=\"anchor\" id=\"Arithmetic_operators\"></a>\n",
    "Python is using arithmetic operators. Most of them have similar use with mathematic operators, but others do not."
   ]
  },
  {
   "cell_type": "code",
   "execution_count": 3,
   "id": "801bad20",
   "metadata": {},
   "outputs": [
    {
     "data": {
      "text/plain": [
       "58"
      ]
     },
     "execution_count": 3,
     "metadata": {},
     "output_type": "execute_result"
    }
   ],
   "source": [
    "50+8"
   ]
  },
  {
   "cell_type": "code",
   "execution_count": 5,
   "id": "b9338368",
   "metadata": {},
   "outputs": [
    {
     "data": {
      "text/plain": [
       "41"
      ]
     },
     "execution_count": 5,
     "metadata": {},
     "output_type": "execute_result"
    }
   ],
   "source": [
    "50-9"
   ]
  },
  {
   "cell_type": "code",
   "execution_count": 4,
   "id": "3d1557e7",
   "metadata": {},
   "outputs": [
    {
     "data": {
      "text/plain": [
       "1100"
      ]
     },
     "execution_count": 4,
     "metadata": {},
     "output_type": "execute_result"
    }
   ],
   "source": [
    "50*22"
   ]
  },
  {
   "cell_type": "code",
   "execution_count": 6,
   "id": "bba3785b",
   "metadata": {},
   "outputs": [
    {
     "data": {
      "text/plain": [
       "32"
      ]
     },
     "execution_count": 6,
     "metadata": {},
     "output_type": "execute_result"
    }
   ],
   "source": [
    "2**5"
   ]
  },
  {
   "cell_type": "code",
   "execution_count": 7,
   "id": "d5341f3e",
   "metadata": {},
   "outputs": [
    {
     "data": {
      "text/plain": [
       "5.0"
      ]
     },
     "execution_count": 7,
     "metadata": {},
     "output_type": "execute_result"
    }
   ],
   "source": [
    "30/6"
   ]
  },
  {
   "cell_type": "markdown",
   "id": "55d70100",
   "metadata": {},
   "source": [
    "_Notice that the result is 5.0 and not 5. You may want to check [this video](https://www.youtube.com/watch?v=PZRI1IfStY0&ab_channel=Computerphile) of Tom Scott in Computerphile to see who computers treat floating point numbers._"
   ]
  },
  {
   "cell_type": "code",
   "execution_count": 8,
   "id": "f750fd18",
   "metadata": {},
   "outputs": [
    {
     "data": {
      "text/plain": [
       "3.75"
      ]
     },
     "execution_count": 8,
     "metadata": {},
     "output_type": "execute_result"
    }
   ],
   "source": [
    "30/8"
   ]
  },
  {
   "cell_type": "code",
   "execution_count": 9,
   "id": "0f0dab87",
   "metadata": {},
   "outputs": [
    {
     "data": {
      "text/plain": [
       "3"
      ]
     },
     "execution_count": 9,
     "metadata": {},
     "output_type": "execute_result"
    }
   ],
   "source": [
    "30//8"
   ]
  },
  {
   "cell_type": "code",
   "execution_count": 10,
   "id": "29db00b2",
   "metadata": {},
   "outputs": [
    {
     "data": {
      "text/plain": [
       "6"
      ]
     },
     "execution_count": 10,
     "metadata": {},
     "output_type": "execute_result"
    }
   ],
   "source": [
    "30%8"
   ]
  },
  {
   "cell_type": "markdown",
   "id": "4d043db7",
   "metadata": {},
   "source": [
    "---"
   ]
  },
  {
   "cell_type": "markdown",
   "id": "647cb93f",
   "metadata": {},
   "source": [
    "## [Assignment](#Introduction_to_Python) <a class=\"anchor\" id=\"Assignment\"></a>\n",
    "Let's assign a value to the __variable__ x. What types of values can the variable get?"
   ]
  },
  {
   "cell_type": "code",
   "execution_count": 21,
   "id": "09a2c437",
   "metadata": {},
   "outputs": [],
   "source": [
    "x = 5"
   ]
  },
  {
   "cell_type": "code",
   "execution_count": 16,
   "id": "8a60329b",
   "metadata": {},
   "outputs": [],
   "source": [
    "x = \"Esther\""
   ]
  },
  {
   "cell_type": "code",
   "execution_count": 17,
   "id": "a641e20f",
   "metadata": {},
   "outputs": [
    {
     "name": "stdout",
     "output_type": "stream",
     "text": [
      "Esther\n"
     ]
    }
   ],
   "source": [
    "print(x)"
   ]
  },
  {
   "cell_type": "markdown",
   "id": "8c4d2836",
   "metadata": {},
   "source": [
    "##### Can more variables have the same value?"
   ]
  },
  {
   "cell_type": "code",
   "execution_count": null,
   "id": "52791fef",
   "metadata": {},
   "outputs": [],
   "source": []
  },
  {
   "cell_type": "markdown",
   "id": "86ad91a1",
   "metadata": {},
   "source": [
    "##### What is going to be the value of x when I run the next cell?"
   ]
  },
  {
   "cell_type": "code",
   "execution_count": null,
   "id": "c5ec9323",
   "metadata": {},
   "outputs": [],
   "source": []
  },
  {
   "cell_type": "markdown",
   "id": "ea82b417",
   "metadata": {},
   "source": [
    "This is called __reassignment__"
   ]
  },
  {
   "cell_type": "markdown",
   "id": "b9f67790",
   "metadata": {},
   "source": [
    "##### What do you think will happen when I run the following code?"
   ]
  },
  {
   "cell_type": "code",
   "execution_count": 19,
   "id": "5175fb1a",
   "metadata": {},
   "outputs": [],
   "source": [
    "z = 7"
   ]
  },
  {
   "cell_type": "code",
   "execution_count": 22,
   "id": "7f27d3ae",
   "metadata": {},
   "outputs": [
    {
     "data": {
      "text/plain": [
       "12"
      ]
     },
     "execution_count": 22,
     "metadata": {},
     "output_type": "execute_result"
    }
   ],
   "source": [
    "x+z"
   ]
  },
  {
   "cell_type": "markdown",
   "id": "f6689176",
   "metadata": {},
   "source": [
    "Before I call a variable I have to __initialize__ it."
   ]
  },
  {
   "cell_type": "markdown",
   "id": "882df157",
   "metadata": {},
   "source": [
    "---"
   ]
  },
  {
   "cell_type": "markdown",
   "id": "4221eafc",
   "metadata": {},
   "source": [
    "## [Python types](#Introduction_to_Python) <a class=\"anchor\" id=\"Python_types\"></a>"
   ]
  },
  {
   "cell_type": "markdown",
   "id": "f17ec0d9",
   "metadata": {},
   "source": [
    "### [Setting the Data Type](https://www.w3schools.com/python/python_datatypes.asp)"
   ]
  },
  {
   "cell_type": "markdown",
   "id": "cf576b03",
   "metadata": {},
   "source": [
    "|Category||Types|\n",
    "|:---|---|:---|\n",
    "|Text Type||str|\n",
    "Numeric Types||int, float, complex\n",
    "Sequence Types||list, tuple, range\n",
    "Mapping Type||dict\n",
    "Set Types||set, frozenset\n",
    "Boolean Type||bool\n",
    "Binary Types||bytes, bytearray, memoryview\n",
    "None Type||NoneType"
   ]
  },
  {
   "cell_type": "markdown",
   "id": "f23ddf6f",
   "metadata": {},
   "source": [
    "#### String `str()`"
   ]
  },
  {
   "cell_type": "code",
   "execution_count": 23,
   "id": "e4e4af94",
   "metadata": {},
   "outputs": [
    {
     "name": "stdout",
     "output_type": "stream",
     "text": [
      "<class 'str'>\n"
     ]
    }
   ],
   "source": [
    "x = 'Hello World'\n",
    "y = \"My name is Georgios\"\n",
    "print(type(x))"
   ]
  },
  {
   "cell_type": "markdown",
   "id": "2f5c6c35",
   "metadata": {},
   "source": [
    "#### Integer `int()`"
   ]
  },
  {
   "cell_type": "code",
   "execution_count": null,
   "id": "0e82b028",
   "metadata": {},
   "outputs": [],
   "source": [
    "x = 20\n",
    "print(type(x))"
   ]
  },
  {
   "cell_type": "markdown",
   "id": "64650b1b",
   "metadata": {},
   "source": [
    "#### Floating point number `float()`"
   ]
  },
  {
   "cell_type": "code",
   "execution_count": null,
   "id": "1c421e9e",
   "metadata": {},
   "outputs": [],
   "source": [
    "x = 20.5\n",
    "print(type(x))"
   ]
  },
  {
   "cell_type": "markdown",
   "id": "8bc1b77f",
   "metadata": {},
   "source": [
    "#### Complex number `complex()`"
   ]
  },
  {
   "cell_type": "code",
   "execution_count": null,
   "id": "676632c2",
   "metadata": {},
   "outputs": [],
   "source": [
    "# x = 1j\n",
    "# print(type(x))"
   ]
  },
  {
   "cell_type": "markdown",
   "id": "9d3ccb78",
   "metadata": {},
   "source": [
    "#### List `list()`"
   ]
  },
  {
   "cell_type": "code",
   "execution_count": null,
   "id": "c77db0ed",
   "metadata": {},
   "outputs": [],
   "source": [
    "x = [\"apple\", \"banana\", \"cherry\"]\n",
    "print(type(x))"
   ]
  },
  {
   "cell_type": "markdown",
   "id": "f975953f",
   "metadata": {},
   "source": [
    "#### Tuple `tuple()`"
   ]
  },
  {
   "cell_type": "code",
   "execution_count": null,
   "id": "3481145e",
   "metadata": {},
   "outputs": [],
   "source": [
    "# x = (\"apple\", \"banana\", \"cherry\")\n",
    "# print(type(x))"
   ]
  },
  {
   "cell_type": "markdown",
   "id": "ae6514a1",
   "metadata": {},
   "source": [
    "#### Range `range()`"
   ]
  },
  {
   "cell_type": "code",
   "execution_count": null,
   "id": "9aa3069e",
   "metadata": {},
   "outputs": [],
   "source": [
    "# x = range(6)\n",
    "# print(type(x))"
   ]
  },
  {
   "cell_type": "markdown",
   "id": "04a531a4",
   "metadata": {},
   "source": [
    "#### Dictionary `dict()`"
   ]
  },
  {
   "cell_type": "code",
   "execution_count": null,
   "id": "3a86e75d",
   "metadata": {},
   "outputs": [],
   "source": [
    "x = {\"name\" : \"John\", \"age\" : 36}\n",
    "print(type(x))"
   ]
  },
  {
   "cell_type": "markdown",
   "id": "62d75f48",
   "metadata": {},
   "source": [
    "#### Set `set()`"
   ]
  },
  {
   "cell_type": "code",
   "execution_count": null,
   "id": "82b21de6",
   "metadata": {},
   "outputs": [],
   "source": [
    "x = {\"apple\", \"apple\", \"cherry\"}\n",
    "print(type(x))"
   ]
  },
  {
   "cell_type": "markdown",
   "id": "69fc903a",
   "metadata": {},
   "source": [
    "#### Frozenset `frozenset()`"
   ]
  },
  {
   "cell_type": "code",
   "execution_count": null,
   "id": "3de0b8f5",
   "metadata": {},
   "outputs": [],
   "source": [
    "# x = frozenset({\"apple\", \"banana\", \"cherry\"})\n",
    "# print(type(x))"
   ]
  },
  {
   "cell_type": "markdown",
   "id": "b31b5998",
   "metadata": {},
   "source": [
    "#### Boolean"
   ]
  },
  {
   "cell_type": "code",
   "execution_count": null,
   "id": "6c98d12d",
   "metadata": {},
   "outputs": [],
   "source": [
    "# x = True\n",
    "# print(type(x))"
   ]
  },
  {
   "cell_type": "markdown",
   "id": "1510bf8c",
   "metadata": {},
   "source": [
    "#### Bytes `bytes()`"
   ]
  },
  {
   "cell_type": "code",
   "execution_count": null,
   "id": "c1ecad82",
   "metadata": {},
   "outputs": [],
   "source": [
    "# x = b\"Hello\"\n",
    "# print(type(x))"
   ]
  },
  {
   "cell_type": "markdown",
   "id": "4a464194",
   "metadata": {},
   "source": [
    "#### Byte array `bytearray()`"
   ]
  },
  {
   "cell_type": "code",
   "execution_count": null,
   "id": "1bc0eca4",
   "metadata": {},
   "outputs": [],
   "source": [
    "# x = bytearray(5)\n",
    "# print(type(x))"
   ]
  },
  {
   "cell_type": "markdown",
   "id": "8d9f7b95",
   "metadata": {},
   "source": [
    "#### MemoryView `memoryview`"
   ]
  },
  {
   "cell_type": "code",
   "execution_count": null,
   "id": "f6cc10ce",
   "metadata": {},
   "outputs": [],
   "source": [
    "# x = memoryview(bytes(5))\n",
    "# print(type(x))"
   ]
  },
  {
   "cell_type": "markdown",
   "id": "3561a836",
   "metadata": {},
   "source": [
    "#### NoneType"
   ]
  },
  {
   "cell_type": "code",
   "execution_count": null,
   "id": "c949f2d7",
   "metadata": {},
   "outputs": [],
   "source": [
    "# x = None\n",
    "# print(type(x))"
   ]
  },
  {
   "cell_type": "markdown",
   "id": "eae21219",
   "metadata": {},
   "source": [
    "---"
   ]
  },
  {
   "cell_type": "markdown",
   "id": "e81f23c2",
   "metadata": {},
   "source": [
    "## [Variables, expressions and statements](#Introduction_to_Python) <a class=\"anchor\" id=\"Variables_expressions_and_statements\"></a>"
   ]
  },
  {
   "cell_type": "markdown",
   "id": "7c1d2859",
   "metadata": {},
   "source": [
    "An <span style=\"color:red\">__assignment statement__</span> stores a <span style=\"color:red\">__value__</span> to a <span style=\"color:red\">__variable__</span>."
   ]
  },
  {
   "cell_type": "code",
   "execution_count": 24,
   "id": "5ab762fa",
   "metadata": {},
   "outputs": [],
   "source": [
    "banana = '1'"
   ]
  },
  {
   "cell_type": "code",
   "execution_count": 25,
   "id": "62645175",
   "metadata": {},
   "outputs": [
    {
     "name": "stdout",
     "output_type": "stream",
     "text": [
      "1\n"
     ]
    }
   ],
   "source": [
    "print(banana)"
   ]
  },
  {
   "cell_type": "code",
   "execution_count": 26,
   "id": "a8ebd4d1",
   "metadata": {},
   "outputs": [],
   "source": [
    "mynameis = \"Georgios\" # I am assigning the first variable."
   ]
  },
  {
   "cell_type": "code",
   "execution_count": 27,
   "id": "157ea035",
   "metadata": {},
   "outputs": [],
   "source": [
    "myageis = 35"
   ]
  },
  {
   "cell_type": "markdown",
   "id": "0422f93a",
   "metadata": {},
   "source": [
    "There are restrictions in variable names\n",
    "- You can use only letters, numbers, and underscores\n",
    "- You cannot start with numbers\n",
    "- You cannot use a keyword"
   ]
  },
  {
   "cell_type": "code",
   "execution_count": 28,
   "id": "b95dc7bd",
   "metadata": {},
   "outputs": [
    {
     "ename": "SyntaxError",
     "evalue": "invalid decimal literal (4096136455.py, line 1)",
     "output_type": "error",
     "traceback": [
      "\u001b[0;36m  Cell \u001b[0;32mIn[28], line 1\u001b[0;36m\u001b[0m\n\u001b[0;31m    1pie = 'test'\u001b[0m\n\u001b[0m    ^\u001b[0m\n\u001b[0;31mSyntaxError\u001b[0m\u001b[0;31m:\u001b[0m invalid decimal literal\n"
     ]
    }
   ],
   "source": [
    "1pie = 'test'"
   ]
  },
  {
   "cell_type": "code",
   "execution_count": 29,
   "id": "a196494a",
   "metadata": {},
   "outputs": [
    {
     "ename": "SyntaxError",
     "evalue": "cannot assign to expression here. Maybe you meant '==' instead of '='? (626596202.py, line 1)",
     "output_type": "error",
     "traceback": [
      "\u001b[0;36m  Cell \u001b[0;32mIn[29], line 1\u001b[0;36m\u001b[0m\n\u001b[0;31m    b@nana = 25\u001b[0m\n\u001b[0m    ^\u001b[0m\n\u001b[0;31mSyntaxError\u001b[0m\u001b[0;31m:\u001b[0m cannot assign to expression here. Maybe you meant '==' instead of '='?\n"
     ]
    }
   ],
   "source": [
    "b@nana = 25"
   ]
  },
  {
   "cell_type": "code",
   "execution_count": 30,
   "id": "8ccffb22",
   "metadata": {},
   "outputs": [
    {
     "ename": "SyntaxError",
     "evalue": "invalid syntax (58714318.py, line 1)",
     "output_type": "error",
     "traceback": [
      "\u001b[0;36m  Cell \u001b[0;32mIn[30], line 1\u001b[0;36m\u001b[0m\n\u001b[0;31m    class = 7\u001b[0m\n\u001b[0m          ^\u001b[0m\n\u001b[0;31mSyntaxError\u001b[0m\u001b[0;31m:\u001b[0m invalid syntax\n"
     ]
    }
   ],
   "source": [
    "class = 7"
   ]
  },
  {
   "cell_type": "markdown",
   "id": "0aadb449",
   "metadata": {},
   "source": [
    "- __Syntax error__: Something is not according to the rules (syntax of python)"
   ]
  },
  {
   "cell_type": "markdown",
   "id": "48272fa3",
   "metadata": {},
   "source": [
    "- __Runtime error__: The program has started running, but something has happened and it had to stop."
   ]
  },
  {
   "cell_type": "markdown",
   "id": "8559c525",
   "metadata": {},
   "source": [
    "---"
   ]
  },
  {
   "cell_type": "markdown",
   "id": "19b2caa2",
   "metadata": {},
   "source": [
    "## [Strings](#Introduction_to_Python) <a class=\"anchor\" id=\"Strings\"></a>"
   ]
  },
  {
   "cell_type": "code",
   "execution_count": 43,
   "id": "6a407250",
   "metadata": {},
   "outputs": [],
   "source": [
    "name = \"Georgios\""
   ]
  },
  {
   "cell_type": "code",
   "execution_count": 31,
   "id": "a5b40d4a",
   "metadata": {},
   "outputs": [
    {
     "name": "stdout",
     "output_type": "stream",
     "text": [
      "\"My name is Georgios\"\n"
     ]
    }
   ],
   "source": [
    "print('\"My name is Georgios\"')"
   ]
  },
  {
   "cell_type": "code",
   "execution_count": 34,
   "id": "452c5d5a",
   "metadata": {},
   "outputs": [
    {
     "data": {
      "text/plain": [
       "'i'"
      ]
     },
     "execution_count": 34,
     "metadata": {},
     "output_type": "execute_result"
    }
   ],
   "source": [
    "name[5]"
   ]
  },
  {
   "cell_type": "code",
   "execution_count": 35,
   "id": "86652a6d",
   "metadata": {},
   "outputs": [
    {
     "data": {
      "text/plain": [
       "'s'"
      ]
     },
     "execution_count": 35,
     "metadata": {},
     "output_type": "execute_result"
    }
   ],
   "source": [
    "name[-1]"
   ]
  },
  {
   "cell_type": "code",
   "execution_count": 36,
   "id": "1b057daf",
   "metadata": {},
   "outputs": [
    {
     "data": {
      "text/plain": [
       "'Ge'"
      ]
     },
     "execution_count": 36,
     "metadata": {},
     "output_type": "execute_result"
    }
   ],
   "source": [
    "name[0:2]"
   ]
  },
  {
   "cell_type": "code",
   "execution_count": 39,
   "id": "05ba451a",
   "metadata": {},
   "outputs": [
    {
     "data": {
      "text/plain": [
       "''"
      ]
     },
     "execution_count": 39,
     "metadata": {},
     "output_type": "execute_result"
    }
   ],
   "source": [
    "name[-4:-2]"
   ]
  },
  {
   "cell_type": "markdown",
   "id": "b200e730",
   "metadata": {},
   "source": [
    "Getting part of a string is called a __slice__."
   ]
  },
  {
   "cell_type": "code",
   "execution_count": 41,
   "id": "3fa8f59d",
   "metadata": {},
   "outputs": [
    {
     "data": {
      "text/plain": [
       "17"
      ]
     },
     "execution_count": 41,
     "metadata": {},
     "output_type": "execute_result"
    }
   ],
   "source": [
    "len(name)"
   ]
  },
  {
   "cell_type": "markdown",
   "id": "d4627604",
   "metadata": {},
   "source": [
    "#### Concatenation"
   ]
  },
  {
   "cell_type": "code",
   "execution_count": 44,
   "id": "1da82db2",
   "metadata": {},
   "outputs": [],
   "source": [
    "lastname = \"Tsolakis\""
   ]
  },
  {
   "cell_type": "code",
   "execution_count": 45,
   "id": "8ac82d62",
   "metadata": {},
   "outputs": [
    {
     "name": "stdout",
     "output_type": "stream",
     "text": [
      "Georgios Tsolakis\n",
      "Georgios Tsolakis\n",
      "Georgios Tsolakis\n"
     ]
    }
   ],
   "source": [
    "fullname = name + \" \" + lastname\n",
    "print(fullname)\n",
    "#print(fullname)\n",
    "print(f\"{name} {lastname}\")"
   ]
  },
  {
   "cell_type": "markdown",
   "id": "39f7c7f0",
   "metadata": {},
   "source": [
    "#### Can we concatenate strings and numbers?"
   ]
  },
  {
   "cell_type": "code",
   "execution_count": 46,
   "id": "a389dd94",
   "metadata": {},
   "outputs": [
    {
     "name": "stdout",
     "output_type": "stream",
     "text": [
      "class 3\n"
     ]
    }
   ],
   "source": [
    "x = \"class\" + \" 3\"\n",
    "print(x)"
   ]
  },
  {
   "cell_type": "code",
   "execution_count": 47,
   "id": "4ae712c6",
   "metadata": {},
   "outputs": [
    {
     "name": "stdout",
     "output_type": "stream",
     "text": [
      "class3\n"
     ]
    }
   ],
   "source": [
    "x = \"class\" + str(3)\n",
    "print(x)"
   ]
  },
  {
   "cell_type": "markdown",
   "id": "186130c6",
   "metadata": {},
   "source": [
    "#### How can we go around this problem?"
   ]
  },
  {
   "cell_type": "code",
   "execution_count": 48,
   "id": "334cc411",
   "metadata": {},
   "outputs": [],
   "source": [
    "x = \"3\""
   ]
  },
  {
   "cell_type": "code",
   "execution_count": 49,
   "id": "b736e297",
   "metadata": {},
   "outputs": [],
   "source": [
    "y = 5"
   ]
  },
  {
   "cell_type": "code",
   "execution_count": 50,
   "id": "3781723f",
   "metadata": {},
   "outputs": [
    {
     "data": {
      "text/plain": [
       "8"
      ]
     },
     "execution_count": 50,
     "metadata": {},
     "output_type": "execute_result"
    }
   ],
   "source": [
    "int(x)+y"
   ]
  },
  {
   "cell_type": "markdown",
   "id": "cbe75fbc",
   "metadata": {},
   "source": [
    "---"
   ]
  },
  {
   "cell_type": "markdown",
   "id": "3abb2369",
   "metadata": {},
   "source": [
    "## [Lists](#Introduction_to_Python) <a class=\"anchor\" id=\"Lists\"></a>"
   ]
  },
  {
   "cell_type": "code",
   "execution_count": 57,
   "id": "74383318",
   "metadata": {},
   "outputs": [],
   "source": [
    "roster1 = ['Daniel', 'Avery', 'Esther', 'Xinrui', 'Qianyi', 'Josh', 'Esther']"
   ]
  },
  {
   "cell_type": "code",
   "execution_count": 58,
   "id": "f82495d9",
   "metadata": {},
   "outputs": [
    {
     "data": {
      "text/plain": [
       "'Daniel'"
      ]
     },
     "execution_count": 58,
     "metadata": {},
     "output_type": "execute_result"
    }
   ],
   "source": [
    "roster1[0]"
   ]
  },
  {
   "cell_type": "code",
   "execution_count": 59,
   "id": "d62c71b2",
   "metadata": {},
   "outputs": [
    {
     "data": {
      "text/plain": [
       "'Esther'"
      ]
     },
     "execution_count": 59,
     "metadata": {},
     "output_type": "execute_result"
    }
   ],
   "source": [
    "roster1[-1]"
   ]
  },
  {
   "cell_type": "code",
   "execution_count": 60,
   "id": "d11f07fa",
   "metadata": {},
   "outputs": [
    {
     "data": {
      "text/plain": [
       "['Daniel', 'Avery', 'Esther']"
      ]
     },
     "execution_count": 60,
     "metadata": {},
     "output_type": "execute_result"
    }
   ],
   "source": [
    "roster1[0:3] # slice"
   ]
  },
  {
   "cell_type": "code",
   "execution_count": 61,
   "id": "d1d3ab28",
   "metadata": {},
   "outputs": [
    {
     "data": {
      "text/plain": [
       "['Qianyi', 'Josh']"
      ]
     },
     "execution_count": 61,
     "metadata": {},
     "output_type": "execute_result"
    }
   ],
   "source": [
    "roster1[-3:-1]"
   ]
  },
  {
   "cell_type": "code",
   "execution_count": 62,
   "id": "35b317d6",
   "metadata": {},
   "outputs": [
    {
     "data": {
      "text/plain": [
       "['Esther', 'Josh', 'Qianyi', 'Xinrui', 'Esther', 'Avery', 'Daniel']"
      ]
     },
     "execution_count": 62,
     "metadata": {},
     "output_type": "execute_result"
    }
   ],
   "source": [
    "roster1[::-1]\n",
    "\n",
    "## this does reverse order"
   ]
  },
  {
   "cell_type": "code",
   "execution_count": 63,
   "id": "e003dc96",
   "metadata": {},
   "outputs": [
    {
     "data": {
      "text/plain": [
       "7"
      ]
     },
     "execution_count": 63,
     "metadata": {},
     "output_type": "execute_result"
    }
   ],
   "source": [
    "len(roster1)"
   ]
  },
  {
   "cell_type": "code",
   "execution_count": 64,
   "id": "16239990",
   "metadata": {},
   "outputs": [],
   "source": [
    "roster2 = [['John', 21], ['Maria', 19], ['Tracy', 19]]"
   ]
  },
  {
   "cell_type": "markdown",
   "id": "ca1808f7",
   "metadata": {},
   "source": [
    "This is called a __nested list__."
   ]
  },
  {
   "cell_type": "code",
   "execution_count": 65,
   "id": "9a9ca056",
   "metadata": {},
   "outputs": [
    {
     "name": "stdout",
     "output_type": "stream",
     "text": [
      "21\n"
     ]
    }
   ],
   "source": [
    "print(roster2[0][1])"
   ]
  },
  {
   "cell_type": "markdown",
   "id": "5852bd78",
   "metadata": {},
   "source": [
    "#### Sorting"
   ]
  },
  {
   "cell_type": "code",
   "execution_count": 66,
   "id": "3df44b50",
   "metadata": {},
   "outputs": [],
   "source": [
    "roster1.sort()"
   ]
  },
  {
   "cell_type": "code",
   "execution_count": 67,
   "id": "9bde58ea",
   "metadata": {},
   "outputs": [
    {
     "data": {
      "text/plain": [
       "['Avery', 'Daniel', 'Esther', 'Esther', 'Josh', 'Qianyi', 'Xinrui']"
      ]
     },
     "execution_count": 67,
     "metadata": {},
     "output_type": "execute_result"
    }
   ],
   "source": [
    "roster1"
   ]
  },
  {
   "cell_type": "code",
   "execution_count": 68,
   "id": "49310e50",
   "metadata": {},
   "outputs": [],
   "source": [
    "roster1.sort(reverse=True) # True is a keyword"
   ]
  },
  {
   "cell_type": "code",
   "execution_count": 69,
   "id": "498bff17",
   "metadata": {},
   "outputs": [
    {
     "data": {
      "text/plain": [
       "['Xinrui', 'Qianyi', 'Josh', 'Esther', 'Esther', 'Daniel', 'Avery']"
      ]
     },
     "execution_count": 69,
     "metadata": {},
     "output_type": "execute_result"
    }
   ],
   "source": [
    "roster1"
   ]
  },
  {
   "cell_type": "code",
   "execution_count": 82,
   "id": "7100cf92",
   "metadata": {},
   "outputs": [
    {
     "data": {
      "text/plain": [
       "['Daniel', 'Esther']"
      ]
     },
     "execution_count": 82,
     "metadata": {},
     "output_type": "execute_result"
    }
   ],
   "source": [
    "list(roster1)"
   ]
  },
  {
   "cell_type": "markdown",
   "id": "8efcc9b9",
   "metadata": {},
   "source": [
    "#### Strings are ummutable, while lists are mutable\n",
    "Try to change a string by assigning a specifix character to a specifix index."
   ]
  },
  {
   "cell_type": "code",
   "execution_count": 71,
   "id": "61ad5b57",
   "metadata": {},
   "outputs": [],
   "source": [
    "roster1[0] = \"Takis\""
   ]
  },
  {
   "cell_type": "code",
   "execution_count": 72,
   "id": "10c02540",
   "metadata": {},
   "outputs": [
    {
     "data": {
      "text/plain": [
       "['Takis', 'Qianyi', 'Josh', 'Esther', 'Esther', 'Daniel', 'Avery']"
      ]
     },
     "execution_count": 72,
     "metadata": {},
     "output_type": "execute_result"
    }
   ],
   "source": [
    "roster1"
   ]
  },
  {
   "cell_type": "code",
   "execution_count": 73,
   "id": "5fb7cf19",
   "metadata": {},
   "outputs": [],
   "source": [
    "name = \"Georgios\""
   ]
  },
  {
   "cell_type": "raw",
   "id": "1b773000",
   "metadata": {},
   "source": [
    "name[0] = \"J\""
   ]
  },
  {
   "cell_type": "code",
   "execution_count": null,
   "id": "2b7aa635",
   "metadata": {},
   "outputs": [],
   "source": [
    "roster1"
   ]
  },
  {
   "cell_type": "markdown",
   "id": "254969cf",
   "metadata": {},
   "source": [
    "---"
   ]
  },
  {
   "cell_type": "markdown",
   "id": "711359b7",
   "metadata": {},
   "source": [
    "## [Functions](#Introduction_to_Python) <a class=\"anchor\" id=\"Functions\"></a>"
   ]
  },
  {
   "cell_type": "markdown",
   "id": "e5f12538",
   "metadata": {},
   "source": [
    "__\"In the context of programming, a function is a named sequence of statements that performs\n",
    "a computation\"__ (Downey 2015, 17). In other words, a function takes something and returns a result.\n",
    "\n",
    "__function definition__: A statement that creates a new function, specifying its name, parameters,\n",
    "and the statements it contains (Downey 2015, 25)\n",
    "\n",
    "__parameter__: A name used inside a function to refer to the value passed as an argument. (Downey 2015, 26)\n",
    "\n",
    "__argument__: A value provided to a function when the function is called. This value is assigned\n",
    "to the corresponding parameter in the function. (Downey 2015, 26)"
   ]
  },
  {
   "cell_type": "code",
   "execution_count": 3,
   "id": "e63bac94",
   "metadata": {},
   "outputs": [],
   "source": [
    "def add(x):             # Here x is a parameter\n",
    "    return x+1"
   ]
  },
  {
   "cell_type": "code",
   "execution_count": 4,
   "id": "340239f2",
   "metadata": {},
   "outputs": [
    {
     "data": {
      "text/plain": [
       "4"
      ]
     },
     "execution_count": 4,
     "metadata": {},
     "output_type": "execute_result"
    }
   ],
   "source": [
    "add(3)                  # Here 3 is an argument"
   ]
  },
  {
   "cell_type": "code",
   "execution_count": 5,
   "id": "0d06e8d1",
   "metadata": {},
   "outputs": [],
   "source": [
    "def addition(x, y):     # Here x and y are parameters\n",
    "    return x+y"
   ]
  },
  {
   "cell_type": "code",
   "execution_count": 6,
   "id": "aa998d8b",
   "metadata": {},
   "outputs": [
    {
     "data": {
      "text/plain": [
       "8"
      ]
     },
     "execution_count": 6,
     "metadata": {},
     "output_type": "execute_result"
    }
   ],
   "source": [
    "addition(3, 5)          # Here 3 and 5 are arguments"
   ]
  },
  {
   "cell_type": "markdown",
   "id": "9eba8aba",
   "metadata": {},
   "source": [
    "Notice how important is the __syntax__ and the __indentation__. "
   ]
  },
  {
   "cell_type": "markdown",
   "id": "31f95702",
   "metadata": {},
   "source": [
    "---"
   ]
  },
  {
   "cell_type": "markdown",
   "id": "48ce7b4f",
   "metadata": {},
   "source": [
    "## [Exercises](#Introduction_to_Python) <a class=\"anchor\" id=\"Exercises\"></a>"
   ]
  },
  {
   "cell_type": "markdown",
   "id": "04d4220a",
   "metadata": {},
   "source": [
    "##### Write a function that doubles a number and adds 3. Then use the function to double a number of your choice."
   ]
  },
  {
   "cell_type": "code",
   "execution_count": 9,
   "id": "caed8d30",
   "metadata": {},
   "outputs": [
    {
     "data": {
      "text/plain": [
       "18"
      ]
     },
     "execution_count": 9,
     "metadata": {},
     "output_type": "execute_result"
    }
   ],
   "source": [
    "def doubleplus3(num):\n",
    "    y = addition(4,5)\n",
    "    return (num*2)+3 + y\n",
    "\n",
    "doubleplus3(3)\n",
    "\n"
   ]
  },
  {
   "cell_type": "markdown",
   "id": "64246d91",
   "metadata": {},
   "source": [
    "As a mental exercise, what would you have to do in order to double a number and add 3 and then double the result and add three?"
   ]
  },
  {
   "cell_type": "markdown",
   "id": "ace1e9a1",
   "metadata": {},
   "source": [
    "##### Write a function that combines two strings"
   ]
  },
  {
   "cell_type": "code",
   "execution_count": 13,
   "id": "2568925d",
   "metadata": {},
   "outputs": [
    {
     "data": {
      "text/plain": [
       "'I love greek drama!'"
      ]
     },
     "execution_count": 13,
     "metadata": {},
     "output_type": "execute_result"
    }
   ],
   "source": [
    "def combine(str1, str2):\n",
    "    newstring = str1 + str2\n",
    "    return newstring\n",
    "\n",
    "a = \"I love \"\n",
    "b = \"greek drama!\"\n",
    "combine(a,b)"
   ]
  },
  {
   "cell_type": "markdown",
   "id": "4dcf4f2b",
   "metadata": {},
   "source": [
    "##### Write a function that takes two parameters and returns one's initials"
   ]
  },
  {
   "cell_type": "code",
   "execution_count": 14,
   "id": "c5916b0c",
   "metadata": {},
   "outputs": [
    {
     "data": {
      "text/plain": [
       "'EK'"
      ]
     },
     "execution_count": 14,
     "metadata": {},
     "output_type": "execute_result"
    }
   ],
   "source": [
    "def init(firstname, lastname):\n",
    "    initials = firstname[0] + lastname[0]\n",
    "    return initials\n",
    "a = \"Esther\"\n",
    "b = \"Kim\"\n",
    "init(a,b)"
   ]
  },
  {
   "cell_type": "markdown",
   "id": "9b0c92db",
   "metadata": {},
   "source": [
    "##### Write a function that returns the lenght of one's full name (notice that it should not count the space character)"
   ]
  },
  {
   "cell_type": "code",
   "execution_count": 15,
   "id": "e7d33614",
   "metadata": {},
   "outputs": [
    {
     "data": {
      "text/plain": [
       "9"
      ]
     },
     "execution_count": 15,
     "metadata": {},
     "output_type": "execute_result"
    }
   ],
   "source": [
    "def namelength(first,last):\n",
    "    length = len(first)+ len(last)\n",
    "    return length\n",
    "namelength(\"Esther\",\"Kim\")"
   ]
  },
  {
   "cell_type": "markdown",
   "id": "5b147706",
   "metadata": {},
   "source": [
    "##### Write a function that takes a string and swaps the first letter with the last one. E.g. Georgios -> seorgioG"
   ]
  },
  {
   "cell_type": "code",
   "execution_count": 18,
   "id": "e1e9d731",
   "metadata": {},
   "outputs": [
    {
     "data": {
      "text/plain": [
       "'seorgioG'"
      ]
     },
     "execution_count": 18,
     "metadata": {},
     "output_type": "execute_result"
    }
   ],
   "source": [
    "def swap(str):\n",
    "    str_list = list(str)\n",
    "    str_list[0] = str[-1]\n",
    "    str_list[-1] = str[0]\n",
    "    return ''.join(str_list) ## this converts a list into a string\n",
    "swap(\"Georgios\")\n",
    "\n",
    "\n",
    "## strings are immutable, lists are mutable"
   ]
  },
  {
   "cell_type": "markdown",
   "id": "cc291a34",
   "metadata": {},
   "source": [
    "##### Write a function that takes two strings, `name` and `lastname`, and prints \"My name is `lastname`. `name` `lastname`.\""
   ]
  },
  {
   "cell_type": "code",
   "execution_count": 22,
   "id": "fc232bc8",
   "metadata": {},
   "outputs": [
    {
     "data": {
      "text/plain": [
       "'My name is Bond. James Bond.'"
      ]
     },
     "execution_count": 22,
     "metadata": {},
     "output_type": "execute_result"
    }
   ],
   "source": [
    "def bond(name, lastname):\n",
    "    return f\"My name is {lastname}. {name} {lastname}.\"\n",
    "bond(\"James\", \"Bond\")"
   ]
  },
  {
   "cell_type": "markdown",
   "id": "6ed75163",
   "metadata": {},
   "source": [
    "##### After you read what an [f-string](https://www.geeksforgeeks.org/formatted-string-literals-f-strings-python/) is in Python, write the same function with an f-string."
   ]
  },
  {
   "cell_type": "code",
   "execution_count": null,
   "id": "401cb003",
   "metadata": {},
   "outputs": [],
   "source": []
  },
  {
   "cell_type": "markdown",
   "id": "2921c881",
   "metadata": {},
   "source": [
    "##### Write a function that counts all the characters in a sentence and then use it for the following one. <a class=\"anchor\" id=\"countwords\"></a>"
   ]
  },
  {
   "cell_type": "code",
   "execution_count": 23,
   "id": "74e1e11d",
   "metadata": {},
   "outputs": [],
   "source": [
    "mysentence = \"Mr and Mrs Dursley, of number four, Privet Drive, were proud to say that they were perfectly normal, thank you very much. They were the last people you’d expect to be involved in anything strange or mysterious, because they just didn’t hold with such nonsense.\""
   ]
  },
  {
   "cell_type": "code",
   "execution_count": 27,
   "id": "e4f841eb",
   "metadata": {},
   "outputs": [
    {
     "data": {
      "text/plain": [
       "216"
      ]
     },
     "execution_count": 27,
     "metadata": {},
     "output_type": "execute_result"
    }
   ],
   "source": [
    "def countStr(x):\n",
    "    spaces = x.count(\" \")\n",
    "    return len(x)-spaces\n",
    "countStr(mysentence)"
   ]
  },
  {
   "cell_type": "markdown",
   "id": "ec749a39",
   "metadata": {},
   "source": [
    "##### See what the method `.split()` does."
   ]
  },
  {
   "cell_type": "code",
   "execution_count": 30,
   "id": "d43d12cb",
   "metadata": {},
   "outputs": [
    {
     "name": "stdout",
     "output_type": "stream",
     "text": [
      "['Welcome', 'to', 'DHAW2023']\n",
      "<class 'list'>\n"
     ]
    }
   ],
   "source": [
    "text = \"Welcome to DHAW2023\"\n",
    "\n",
    "x = text.split()\n",
    "\n",
    "print(x)\n",
    "print(type(x))"
   ]
  },
  {
   "cell_type": "markdown",
   "id": "7e43a8e0",
   "metadata": {},
   "source": [
    "##### Write a function that is using the split() method and returns the number of words in a sentence. Then assign to variable `numberofwords` the function that you wrote [above](#countwords)"
   ]
  },
  {
   "cell_type": "code",
   "execution_count": 29,
   "id": "907f1b04",
   "metadata": {},
   "outputs": [
    {
     "data": {
      "text/plain": [
       "3"
      ]
     },
     "execution_count": 29,
     "metadata": {},
     "output_type": "execute_result"
    }
   ],
   "source": [
    "def words(sentence):\n",
    "    words = len(sentence.split())\n",
    "    return words\n",
    "words(text)"
   ]
  },
  {
   "cell_type": "markdown",
   "id": "1592184d",
   "metadata": {},
   "source": [
    "##### If you followed the instructions correctly, you do not see any result. Why?"
   ]
  },
  {
   "cell_type": "code",
   "execution_count": null,
   "id": "5907c1e8",
   "metadata": {},
   "outputs": [],
   "source": []
  },
  {
   "cell_type": "markdown",
   "id": "c2b246b2",
   "metadata": {},
   "source": [
    "##### Here is a list of names. Print the fifth element"
   ]
  },
  {
   "cell_type": "code",
   "execution_count": 31,
   "id": "6e98253f",
   "metadata": {},
   "outputs": [],
   "source": [
    "names = ['Emma', 'Liam', 'Olivia', 'Noah', 'Sophia', 'Jackson', 'Ava', 'Lucas', 'Isabella', 'Aiden', 'Mia', 'Ethan', 'Harper', 'Oliver', 'Amelia']"
   ]
  },
  {
   "cell_type": "markdown",
   "id": "e4b7ec46",
   "metadata": {},
   "source": [
    "##### What's the first name alphabetically?"
   ]
  },
  {
   "cell_type": "code",
   "execution_count": 34,
   "id": "1e8d311f",
   "metadata": {},
   "outputs": [
    {
     "name": "stdout",
     "output_type": "stream",
     "text": [
      "['Aiden', 'Amelia', 'Ava', 'Emma', 'Ethan', 'Harper', 'Isabella', 'Jackson', 'Liam', 'Lucas', 'Mia', 'Noah', 'Oliver', 'Olivia', 'Sophia']\n"
     ]
    }
   ],
   "source": [
    "names.sort()\n",
    "print(names)"
   ]
  },
  {
   "cell_type": "code",
   "execution_count": 39,
   "id": "8fb4c993",
   "metadata": {},
   "outputs": [
    {
     "name": "stdout",
     "output_type": "stream",
     "text": [
      "['a', 'd', 'e', 'f', 'i', 'j', 'k', 'n', 'o', 'p', 'q', 'r', 's', 't', 'u', 'w', 'y']\n"
     ]
    }
   ],
   "source": [
    "text = \"fndsajkqwpeoriuyt\"\n",
    "text = list(text)\n",
    "text.sort()\n",
    "text = str(text)\n",
    "print(text)"
   ]
  },
  {
   "cell_type": "markdown",
   "id": "2c202e74",
   "metadata": {},
   "source": [
    "##### What's the index of the name Ethan? Note that you have to use the .index() method"
   ]
  },
  {
   "cell_type": "code",
   "execution_count": 51,
   "id": "d955819d",
   "metadata": {},
   "outputs": [
    {
     "data": {
      "text/plain": [
       "10"
      ]
     },
     "execution_count": 51,
     "metadata": {},
     "output_type": "execute_result"
    }
   ],
   "source": [
    "fullnames = [\n",
    "    ['Emma', 'Johnson'],\n",
    "    ['Liam', 'Smith'],\n",
    "    ['Olivia', 'Williams'],\n",
    "    ['Noah', 'Brown'],\n",
    "    ['Sophia', 'Jones'],\n",
    "    ['Jackson', 'Taylor'],\n",
    "    ['Ava', 'Miller'],\n",
    "    ['Ethan', 'Jackson'],\n",
    "    ['Harper', 'Anderson'],\n",
    "    ['Oliver', 'Thomas'],\n",
    "    ['Amelia', 'Moore']\n",
    "]\n",
    "names.index(\"Mia\")"
   ]
  },
  {
   "cell_type": "markdown",
   "id": "a97d9791",
   "metadata": {},
   "source": [
    "##### What's the last name of the fifth element?"
   ]
  },
  {
   "cell_type": "code",
   "execution_count": 46,
   "id": "0d232cc7",
   "metadata": {},
   "outputs": [
    {
     "data": {
      "text/plain": [
       "'Jones'"
      ]
     },
     "execution_count": 46,
     "metadata": {},
     "output_type": "execute_result"
    }
   ],
   "source": [
    "fullnames[4][1]"
   ]
  },
  {
   "cell_type": "markdown",
   "id": "13666ea0",
   "metadata": {},
   "source": [
    "##### What's first last name of the last element?"
   ]
  },
  {
   "cell_type": "code",
   "execution_count": 52,
   "id": "7b7e574c",
   "metadata": {},
   "outputs": [
    {
     "data": {
      "text/plain": [
       "['Amelia', 'Moore']"
      ]
     },
     "execution_count": 52,
     "metadata": {},
     "output_type": "execute_result"
    }
   ],
   "source": [
    "fullnames[-1]"
   ]
  },
  {
   "cell_type": "markdown",
   "id": "fea48f89",
   "metadata": {},
   "source": [
    "##### What's the last name of the last element (provided that you don't know how many elements are in the list)?"
   ]
  },
  {
   "cell_type": "code",
   "execution_count": 53,
   "id": "833c97c0",
   "metadata": {},
   "outputs": [
    {
     "data": {
      "text/plain": [
       "'Moore'"
      ]
     },
     "execution_count": 53,
     "metadata": {},
     "output_type": "execute_result"
    }
   ],
   "source": [
    "fullnames[-1][-1]"
   ]
  },
  {
   "cell_type": "markdown",
   "id": "423a224c",
   "metadata": {},
   "source": [
    "##### Here is a list of numbers:"
   ]
  },
  {
   "cell_type": "code",
   "execution_count": 54,
   "id": "4f57d864",
   "metadata": {},
   "outputs": [],
   "source": [
    "numbers = [\n",
    "    [54, 494, 64],\n",
    "    [20, 7, 36],\n",
    "    [98, 47, 30]\n",
    "]"
   ]
  },
  {
   "cell_type": "markdown",
   "id": "f95511d8",
   "metadata": {},
   "source": [
    "##### Can you add the first element of each nested list?"
   ]
  },
  {
   "cell_type": "code",
   "execution_count": 55,
   "id": "c064f952",
   "metadata": {},
   "outputs": [
    {
     "data": {
      "text/plain": [
       "172"
      ]
     },
     "execution_count": 55,
     "metadata": {},
     "output_type": "execute_result"
    }
   ],
   "source": [
    "numbers[0][0] + numbers[1][0] + numbers[2][0]"
   ]
  },
  {
   "cell_type": "markdown",
   "id": "988a068d",
   "metadata": {},
   "source": [
    "## [if, else, elif, while](#Introduction_to_Python) <a class=\"anchor\" id=\"if_else_elif_while\"></a>"
   ]
  },
  {
   "cell_type": "code",
   "execution_count": 74,
   "id": "8b790e60",
   "metadata": {},
   "outputs": [
    {
     "name": "stdout",
     "output_type": "stream",
     "text": [
      "OK\n"
     ]
    }
   ],
   "source": [
    "if len(roster1)>2:\n",
    "    print(\"OK\")"
   ]
  },
  {
   "cell_type": "code",
   "execution_count": 77,
   "id": "cf3af6e1",
   "metadata": {},
   "outputs": [],
   "source": [
    "roster1 = ['Daniel', 'Esther']"
   ]
  },
  {
   "cell_type": "code",
   "execution_count": 79,
   "id": "6d2ed787",
   "metadata": {},
   "outputs": [
    {
     "name": "stdout",
     "output_type": "stream",
     "text": [
      "You can proceed\n"
     ]
    }
   ],
   "source": [
    "if len(roster1)>2:\n",
    "    print(\"You can proceed\")\n",
    "else:\n",
    "    print(\"You cannot teach this class\")"
   ]
  },
  {
   "cell_type": "code",
   "execution_count": 80,
   "id": "566e688a",
   "metadata": {},
   "outputs": [
    {
     "name": "stdout",
     "output_type": "stream",
     "text": [
      "Find another student\n"
     ]
    }
   ],
   "source": [
    "if len(roster1)>2:\n",
    "    print(\"You can proceed\")\n",
    "elif len(roster1)==2:\n",
    "    print(\"Find another student\")\n",
    "else:\n",
    "    print(\"You cannot teach this class\")"
   ]
  },
  {
   "cell_type": "markdown",
   "id": "dd7cf348",
   "metadata": {},
   "source": [
    "##### What is an iteration?"
   ]
  },
  {
   "cell_type": "code",
   "execution_count": 81,
   "id": "f501eb59",
   "metadata": {},
   "outputs": [
    {
     "name": "stdout",
     "output_type": "stream",
     "text": [
      "Daniel\n",
      "Esther\n"
     ]
    }
   ],
   "source": [
    "for student in roster1: ##each element\n",
    "    print(student)"
   ]
  },
  {
   "cell_type": "code",
   "execution_count": null,
   "id": "0860fdb6",
   "metadata": {},
   "outputs": [],
   "source": [
    "mylist = [1,2,3,7]\n",
    "for number in mylist:\n",
    "    "
   ]
  },
  {
   "cell_type": "markdown",
   "id": "d10350a0",
   "metadata": {},
   "source": [
    "---"
   ]
  }
 ],
 "metadata": {
  "kernelspec": {
   "display_name": "Python 3 (ipykernel)",
   "language": "python",
   "name": "python3"
  },
  "language_info": {
   "codemirror_mode": {
    "name": "ipython",
    "version": 3
   },
   "file_extension": ".py",
   "mimetype": "text/x-python",
   "name": "python",
   "nbconvert_exporter": "python",
   "pygments_lexer": "ipython3",
   "version": "3.11.5"
  }
 },
 "nbformat": 4,
 "nbformat_minor": 5
}
