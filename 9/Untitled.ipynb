{
 "cells": [
  {
   "cell_type": "code",
   "execution_count": 1,
   "id": "c3d66506",
   "metadata": {},
   "outputs": [],
   "source": [
    "import json \n",
    "import urllib.request\n",
    "import csv\n",
    "import pandas as pd"
   ]
  },
  {
   "cell_type": "code",
   "execution_count": 2,
   "id": "233e60c0",
   "metadata": {},
   "outputs": [],
   "source": [
    "def getjson(uri):\n",
    "    uri = f'https://pleiades.stoa.org/places/{uri}/json'\n",
    "    with urllib.request.urlopen(uri) as f:\n",
    "        data = json.loads(f.read().decode())\n",
    "    return data"
   ]
  },
  {
   "cell_type": "code",
   "execution_count": 3,
   "id": "8e6988d7",
   "metadata": {},
   "outputs": [],
   "source": [
    "# def getCoordinates(uri):\n",
    "#     if not (getjson(uri)['features'][0]['geometry']['coordinates'] is None):\n",
    "#         print(getjson(uri)['features'][0]['geometry']['coordinates'])\n",
    "#     else:\n",
    "#         print(\"Place has no coordinates\")\n",
    "\n",
    "# def getCoordinates(uri):\n",
    "#     if 'coordinates' in (getjson(uri)['features'][0]['geometry']):\n",
    "#         return getjson(uri)['features'][0]['geometry']['coordinates']\n",
    "#     else:\n",
    "#         return \"Place has no coordinates\"\n",
    "\n",
    "def getCoordinates(uri):\n",
    "    coords = getjson(uri)['features'][0].get('geometry')\n",
    "    if coords is not None:\n",
    "        return (coords['coordinates'])\n",
    "    else:\n",
    "        print(\"Place has no coordinates\")"
   ]
  },
  {
   "cell_type": "code",
   "execution_count": 4,
   "id": "ec2f4f1e",
   "metadata": {},
   "outputs": [
    {
     "data": {
      "text/plain": [
       "[23.317355, 38.319236]"
      ]
     },
     "execution_count": 4,
     "metadata": {},
     "output_type": "execute_result"
    }
   ],
   "source": [
    "getCoordinates(541138)\n"
   ]
  },
  {
   "cell_type": "code",
   "execution_count": 17,
   "id": "4c16220f",
   "metadata": {},
   "outputs": [
    {
     "data": {
      "text/plain": [
       "[22.42366, 37.082132]"
      ]
     },
     "execution_count": 17,
     "metadata": {},
     "output_type": "execute_result"
    }
   ],
   "source": [
    "getCoordinates(570685)"
   ]
  },
  {
   "cell_type": "code",
   "execution_count": 6,
   "id": "70e225c5",
   "metadata": {},
   "outputs": [
    {
     "name": "stdout",
     "output_type": "stream",
     "text": [
      "Place has no coordinates\n"
     ]
    }
   ],
   "source": [
    "getCoordinates(711244)\n",
    "#this location has no coordinates! test for no coordinates"
   ]
  },
  {
   "cell_type": "code",
   "execution_count": 23,
   "id": "153135de",
   "metadata": {},
   "outputs": [
    {
     "name": "stdout",
     "output_type": "stream",
     "text": [
      "Undetermined location\n"
     ]
    }
   ],
   "source": [
    "print(getjson(711244)['features'][0]['properties']['title'])"
   ]
  },
  {
   "cell_type": "code",
   "execution_count": 27,
   "id": "a7965bf9",
   "metadata": {},
   "outputs": [],
   "source": [
    "def export_coordinates(input_list, filename):\n",
    "    dict = {\"a\": \"good\", \"b\": 'bad' }\n",
    "    for i in input_list:\n",
    "       dict[i] = {\"title\": getjson(711244)['features'][0]['properties']['title'], 'pleiadesID': i, 'latitude':getCoordinates(i)[0], 'longitude':getCoordinates(i)[1]}\n",
    "    df = pd.DataFrame(dict)\n",
    "    print(df)\n",
    "    \n"
   ]
  },
  {
   "cell_type": "code",
   "execution_count": 28,
   "id": "78bb980b",
   "metadata": {},
   "outputs": [
    {
     "name": "stdout",
     "output_type": "stream",
     "text": [
      "               a    b                 541138                 570685\n",
      "title       good  bad  Undetermined location  Undetermined location\n",
      "pleiadesID  good  bad                 541138                 570685\n",
      "latitude    good  bad              23.317355               22.42366\n",
      "longitude   good  bad              38.319236              37.082132\n"
     ]
    }
   ],
   "source": [
    "inputList = [541138, 570685]\n",
    "export_coordinates(inputList, \"filename\")   "
   ]
  },
  {
   "cell_type": "code",
   "execution_count": null,
   "id": "5e3db4b1",
   "metadata": {},
   "outputs": [],
   "source": []
  },
  {
   "cell_type": "code",
   "execution_count": null,
   "id": "775e4569",
   "metadata": {},
   "outputs": [],
   "source": []
  }
 ],
 "metadata": {
  "kernelspec": {
   "display_name": "Python 3 (ipykernel)",
   "language": "python",
   "name": "python3"
  },
  "language_info": {
   "codemirror_mode": {
    "name": "ipython",
    "version": 3
   },
   "file_extension": ".py",
   "mimetype": "text/x-python",
   "name": "python",
   "nbconvert_exporter": "python",
   "pygments_lexer": "ipython3",
   "version": "3.11.5"
  }
 },
 "nbformat": 4,
 "nbformat_minor": 5
}
