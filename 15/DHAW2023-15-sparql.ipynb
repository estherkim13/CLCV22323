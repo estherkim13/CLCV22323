{
 "cells": [
  {
   "attachments": {},
   "cell_type": "markdown",
   "id": "99903a25",
   "metadata": {},
   "source": [
    "# SPARQL\n",
    "\n",
    "The __Semantic Web__ is an extension of the World Wide Web that aims to make information on the web more meaningful and interconnected. It's based on the idea that web content should not only be readable by humans but also interpretable by machines. The goal is to enable machines to understand the context, meaning, and relationships between different pieces of information. Key components of the Semantic Web include:\n",
    "\n",
    "1. __Resource Description Framework (RDF)__ is a standard model for representing and interchanging data on the Web. RDF's basic unit of information is given as a __triple__ composed of a subject (s), a predicate (p), and an object (o). In each triple: \n",
    "    - the __subject__ represents a fact on a thing being \n",
    "    - the __predicate__ represents a specific property \n",
    "    - the __object__ a given value. (Curâe and Blin. 2014)\n",
    "\n",
    "    \n",
    "2. __Web Ontology Language (OWL)__: A language for creating ontologies, which define relationships and categories of things in a specific domain. OWL allows for the formal description of concepts and their relationships.\n",
    "\n",
    "3. __SPARQL__ is a recursive acronym for SPARQL Protocol and RDF Query Language. SPARQL is able to retrieve and manipulate data stored in Resource Description Framework (RDF) format and allows for a query to consist of triple patterns. A __SPARQL Endpoint__ is web service that allows you to query and interact with RDF (Resource Description Framework) data using SPARQL.\n",
    "\n",
    "\n",
    "__Linked Open Data (LOD)__ is essentially a specific implementation or application of Semantic Web principles."
   ]
  },
  {
   "cell_type": "markdown",
   "id": "8a6dd63d",
   "metadata": {},
   "source": [
    "## Useful Sites"
   ]
  },
  {
   "cell_type": "markdown",
   "id": "16dc3545",
   "metadata": {},
   "source": [
    "#### General\n",
    "- [Introduction to SPARQL, RDF, and LOD](https://github.com/o-date/sparql-and-lod/blob/master/sparql-intro.ipynb), a Jupyter Notebook by Shawn Graham\n",
    "- [SPARQL 1.1 Query Language](https://www.w3.org/TR/sparql11-query/)\n",
    "- [SPARQL Query Validator](https://sparql.org/query-validator.html)\n",
    "\n",
    "#### Nomisma.org\n",
    "- [Nomisma.org SPARQL Endpoint](http://nomisma.org/sparql/)\n",
    "- [SPARQL Examples from Nomisma.org](http://nomisma.org/documentation/sparql/)\n",
    "\n",
    "#### Wikidata\n",
    "- [Wikidata](https://www.wikidata.org/wiki/Wikidata:Main_Page)\n",
    "- [Wikidata's SPARQL Tutorial](https://www.wikidata.org/wiki/Wikidata:SPARQL_tutorial)\n",
    "- [Wikidata Query Service](https://query.wikidata.org/)\n",
    "- [Tutorial on how to build SPARQL queries on Wikidata](https://www.youtube.com/watch?v=YC6jyl4hAxQ)\n",
    "- [Petscan](https://petscan.wmflabs.org/)"
   ]
  },
  {
   "cell_type": "markdown",
   "id": "bf771590",
   "metadata": {},
   "source": [
    "#### Imports"
   ]
  },
  {
   "cell_type": "code",
   "execution_count": null,
   "id": "a0ee8430",
   "metadata": {},
   "outputs": [],
   "source": [
    "# pip install sparqlwrapper\n",
    "from SPARQLWrapper import SPARQLWrapper, JSON\n",
    "import pandas as pd\n",
    "pd.set_option('display.max_rows', None)\n",
    "pd.set_option('display.max_columns', None)\n",
    "pd.set_option('display.precision', 3)"
   ]
  },
  {
   "cell_type": "markdown",
   "id": "f9b77503",
   "metadata": {},
   "source": [
    "__SPARQLWrapper__ is a simple Python wrapper around a SPARQL service to remotelly execute your queries. It helps in creating the query invokation and, possibly, convert the result into a more manageable format. [Link](https://rdflib.dev/sparqlwrapper/doc/1.8.5/main.html)"
   ]
  },
  {
   "cell_type": "markdown",
   "id": "85d7c66f",
   "metadata": {},
   "source": [
    "#### Make Clickable\n",
    "The function `make_clickable` takes a string `link` as an argument and returns a formatted string containing an HTML anchor (`<a>`) element. "
   ]
  },
  {
   "cell_type": "code",
   "execution_count": null,
   "id": "d14829d2",
   "metadata": {},
   "outputs": [],
   "source": [
    "def make_clickable(link):\n",
    "    return f'<a href=\"{link}\" target=\"_blank\">{link}</a>'"
   ]
  },
  {
   "cell_type": "markdown",
   "id": "84a47b3e",
   "metadata": {},
   "source": [
    "---"
   ]
  },
  {
   "cell_type": "markdown",
   "id": "9e0e0ee3",
   "metadata": {},
   "source": [
    "## Nomisma.org"
   ]
  },
  {
   "cell_type": "markdown",
   "id": "2c7c192f",
   "metadata": {},
   "source": [
    "#### Prefixes"
   ]
  },
  {
   "cell_type": "markdown",
   "id": "7906080e",
   "metadata": {},
   "source": [
    "#### A simple query. Example from [Wikidata](https://www.wikidata.org/wiki/Wikidata:SPARQL_query_service/queries/examples#Cats)"
   ]
  },
  {
   "cell_type": "code",
   "execution_count": null,
   "id": "7979ea6b",
   "metadata": {},
   "outputs": [],
   "source": [
    "ns_dict = {\"crm\": \"http://www.cidoc-crm.org/cidoc-crm/\",\n",
    "            \"dcterms\": \"http://purl.org/dc/terms/\",\n",
    "            \"dcmitype\": \"http://purl.org/dc/dcmitype/\",\n",
    "            \"foaf\": \"http://xmlns.com/foaf/0.1/\",\n",
    "            \"geo\": \"http://www.w3.org/2003/01/geo/wgs84_pos#\",\n",
    "            \"nm\": \"http://nomisma.org/id/\",\n",
    "            \"nmo\": \"http://nomisma.org/ontology#\",\n",
    "            \"org\": \"http://www.w3.org/ns/org#\",\n",
    "            \"rdf\": \"http://www.w3.org/1999/02/22-rdf-syntax-ns#\",\n",
    "            \"rdfs\": \"http://www.w3.org/2000/01/rdf-schema#\",\n",
    "            \"skos\": \"http://www.w3.org/2004/02/skos/core#\",\n",
    "            \"xsd\": \"http://www.w3.org/2001/XMLSchema#\"}"
   ]
  },
  {
   "cell_type": "code",
   "execution_count": null,
   "id": "7e436fb5",
   "metadata": {},
   "outputs": [],
   "source": [
    "sparql = SPARQLWrapper(\"http://nomisma.org/query\")"
   ]
  },
  {
   "cell_type": "code",
   "execution_count": null,
   "id": "4620a03e",
   "metadata": {},
   "outputs": [],
   "source": [
    "sparql.setQuery(\"\"\"\n",
    "\n",
    "\n",
    "\"\"\")\n",
    "sparql.setReturnFormat(JSON)\n",
    "results = sparql.query().convert()"
   ]
  },
  {
   "cell_type": "code",
   "execution_count": null,
   "id": "7af1a292",
   "metadata": {},
   "outputs": [],
   "source": [
    "# results"
   ]
  },
  {
   "cell_type": "code",
   "execution_count": null,
   "id": "c705bc5b",
   "metadata": {
    "scrolled": true
   },
   "outputs": [],
   "source": []
  },
  {
   "cell_type": "markdown",
   "id": "18f5aef0",
   "metadata": {},
   "source": [
    "---"
   ]
  },
  {
   "cell_type": "markdown",
   "id": "d8fa95be",
   "metadata": {},
   "source": [
    "## Wikipedia\n",
    "\n",
    "\n",
    "#### [Wikidata identifiers](https://www.wikidata.org/wiki/Wikidata:Identifiers)\n",
    "Each Wikidata entity is identified by an entity ID, which is a number prefixed by a letter.\n",
    "\n",
    "- items, also known as Q-items, are prefixed with Q (e.g. Q12345),\n",
    "- properties are prefixed by P (e.g. P569) and\n",
    "- lexemes are prefixed by L (e.g. L1).\n",
    "\n",
    "Entity IDs can also be used as globally unique URIs that follow the pattern http://www.wikidata.org/entity/ID where ID is an entity ID.\n",
    "\n",
    "In SPARQL, prefixes are a way to define shorthand abbreviations for URIs in order to make queries more concise and readable. They are used to create a namespace for the URIs, allowing you to refer to them with a shorter alias."
   ]
  },
  {
   "cell_type": "raw",
   "id": "e7910085",
   "metadata": {},
   "source": [
    "PREFIX bd: <http://www.bigdata.com/rdf#>\n",
    "PREFIX cc: <http://creativecommons.org/ns#>\n",
    "PREFIX dct: <http://purl.org/dc/terms/>\n",
    "PREFIX geo: <http://www.opengis.net/ont/geosparql#>\n",
    "PREFIX ontolex: <http://www.w3.org/ns/lemon/ontolex#>\n",
    "PREFIX owl: <http://www.w3.org/2002/07/owl#>\n",
    "PREFIX p: <http://www.wikidata.org/prop/>\n",
    "PREFIX pq: <http://www.wikidata.org/prop/qualifier/>\n",
    "PREFIX pqn: <http://www.wikidata.org/prop/qualifier/value-normalized/>\n",
    "PREFIX pqv: <http://www.wikidata.org/prop/qualifier/value/>\n",
    "PREFIX pr: <http://www.wikidata.org/prop/reference/>\n",
    "PREFIX prn: <http://www.wikidata.org/prop/reference/value-normalized/>\n",
    "PREFIX prov: <http://www.w3.org/ns/prov#>\n",
    "PREFIX prv: <http://www.wikidata.org/prop/reference/value/>\n",
    "PREFIX ps: <http://www.wikidata.org/prop/statement/>\n",
    "PREFIX psn: <http://www.wikidata.org/prop/statement/value-normalized/>\n",
    "PREFIX psv: <http://www.wikidata.org/prop/statement/value/>\n",
    "PREFIX rdf: <http://www.w3.org/1999/02/22-rdf-syntax-ns#>\n",
    "PREFIX rdfs: <http://www.w3.org/2000/01/rdf-schema#>\n",
    "PREFIX schema: <http://schema.org/>\n",
    "PREFIX skos: <http://www.w3.org/2004/02/skos/core#>\n",
    "PREFIX wd: <http://www.wikidata.org/entity/>\n",
    "PREFIX wdata: <http://www.wikidata.org/wiki/Special:EntityData/>\n",
    "PREFIX wdno: <http://www.wikidata.org/prop/novalue/>\n",
    "PREFIX wdref: <http://www.wikidata.org/reference/>\n",
    "PREFIX wds: <http://www.wikidata.org/entity/statement/>\n",
    "PREFIX wdt: <http://www.wikidata.org/prop/direct/>\n",
    "PREFIX wdtn: <http://www.wikidata.org/prop/direct-normalized/>\n",
    "PREFIX wdv: <http://www.wikidata.org/value/>\n",
    "PREFIX wikibase: <http://wikiba.se/ontology#>\n",
    "PREFIX xsd: <http://www.w3.org/2001/XMLSchema#>"
   ]
  },
  {
   "cell_type": "code",
   "execution_count": null,
   "id": "5986379c",
   "metadata": {},
   "outputs": [],
   "source": [
    "sparql = SPARQLWrapper(\"https://query.wikidata.org/sparql\")"
   ]
  },
  {
   "cell_type": "code",
   "execution_count": null,
   "id": "94f34cce",
   "metadata": {},
   "outputs": [],
   "source": [
    "# From https://www.wikidata.org/wiki/Wikidata:SPARQL_query_service/queries/examples#Cats\n"
   ]
  },
  {
   "cell_type": "code",
   "execution_count": null,
   "id": "92a3942a",
   "metadata": {},
   "outputs": [],
   "source": []
  },
  {
   "cell_type": "code",
   "execution_count": null,
   "id": "32f5737b",
   "metadata": {},
   "outputs": [],
   "source": []
  },
  {
   "cell_type": "markdown",
   "id": "14c50588",
   "metadata": {},
   "source": [
    "---"
   ]
  },
  {
   "cell_type": "markdown",
   "id": "897a9742",
   "metadata": {},
   "source": [
    "#### Dogs"
   ]
  },
  {
   "cell_type": "code",
   "execution_count": null,
   "id": "073a5d9c",
   "metadata": {},
   "outputs": [],
   "source": []
  },
  {
   "cell_type": "markdown",
   "id": "1cd14872",
   "metadata": {},
   "source": [
    "---"
   ]
  },
  {
   "cell_type": "code",
   "execution_count": null,
   "id": "73244750",
   "metadata": {},
   "outputs": [],
   "source": [
    "def make_clickable(link):\n",
    "    return f'<a href=\"{link}\" target=\"_blank\">{link}</a>'"
   ]
  },
  {
   "cell_type": "markdown",
   "id": "ef9415af",
   "metadata": {},
   "source": [
    "#### American policians who were born in Chicago"
   ]
  },
  {
   "cell_type": "code",
   "execution_count": null,
   "id": "2ec1f8a0",
   "metadata": {},
   "outputs": [],
   "source": [
    "sparql.setQuery(\"\"\"\n",
    "\n",
    "\n",
    "\"\"\")\n",
    "sparql.setReturnFormat(JSON)\n",
    "results = sparql.query().convert()\n",
    "results_df = pd.json_normalize(results['results']['bindings'])\n",
    "results_df = results_df[['item.value', 'itemLabel.value']]\n",
    "results_df['item.value'] = results_df['item.value'].apply(make_clickable)\n",
    "results_df.style.format()"
   ]
  },
  {
   "cell_type": "markdown",
   "id": "8d441ab4",
   "metadata": {},
   "source": [
    "---"
   ]
  },
  {
   "cell_type": "markdown",
   "id": "c8da5d8a",
   "metadata": {},
   "source": [
    "#### American policians who were not born in Chicago"
   ]
  },
  {
   "cell_type": "code",
   "execution_count": null,
   "id": "fb95d9c7",
   "metadata": {},
   "outputs": [],
   "source": [
    "sparql.setQuery(\"\"\"\n",
    "\n",
    "\"\"\")\n",
    "sparql.setReturnFormat(JSON)\n",
    "results = sparql.query().convert()\n",
    "results_df = pd.json_normalize(results['results']['bindings'])\n",
    "results_df = results_df[['item.value', 'itemLabel.value']]\n",
    "results_df['item.value'] = results_df['item.value'].apply(make_clickable)\n",
    "results_df.style.format()"
   ]
  },
  {
   "cell_type": "markdown",
   "id": "e263aa59",
   "metadata": {},
   "source": [
    "---"
   ]
  },
  {
   "cell_type": "markdown",
   "id": "ff1e9ed4",
   "metadata": {},
   "source": [
    "#### American policians who were born in Chicago after 1950 and are still alive"
   ]
  },
  {
   "cell_type": "code",
   "execution_count": null,
   "id": "fcfda0cd",
   "metadata": {},
   "outputs": [],
   "source": [
    "sparql.setQuery(\"\"\"\n",
    "\n",
    "\n",
    "\"\"\")\n",
    "sparql.setReturnFormat(JSON)\n",
    "results = sparql.query().convert()\n",
    "results_df = pd.json_normalize(results['results']['bindings'])\n",
    "results_df = results_df[['item.value', 'itemLabel.value']]\n",
    "results_df['item.value'] = results_df['item.value'].apply(make_clickable)\n",
    "results_df.style.format()"
   ]
  },
  {
   "cell_type": "markdown",
   "id": "86f7522f",
   "metadata": {},
   "source": [
    "---"
   ]
  },
  {
   "cell_type": "markdown",
   "id": "bfdd6db6",
   "metadata": {},
   "source": [
    "#### Greek policians after 1900 and are still alive, along with their place of birth"
   ]
  },
  {
   "cell_type": "code",
   "execution_count": null,
   "id": "7f7d9f72",
   "metadata": {},
   "outputs": [],
   "source": [
    "sparql.setQuery(\"\"\"\n",
    "\n",
    "\n",
    "\"\"\")\n",
    "sparql.setReturnFormat(JSON)\n",
    "results = sparql.query().convert()\n",
    "results_df = pd.json_normalize(results['results']['bindings'])\n",
    "results_df = results_df.loc[:,~results_df.columns.str.contains('.type')] # removes the columns that contain '.type'\n",
    "results_df = results_df.loc[:,~results_df.columns.str.contains('.lang')] # removes the columns that contain '.lang'\n"
   ]
  },
  {
   "cell_type": "markdown",
   "id": "f1f4b21b",
   "metadata": {},
   "source": [
    "---"
   ]
  },
  {
   "cell_type": "markdown",
   "id": "fba96e93",
   "metadata": {},
   "source": [
    "#### Greek policians whose father was a politician"
   ]
  },
  {
   "cell_type": "code",
   "execution_count": null,
   "id": "6f40a31f",
   "metadata": {},
   "outputs": [],
   "source": [
    "sparql.setQuery(\"\"\"\n",
    "\n",
    "\n",
    "\"\"\")\n",
    "sparql.setReturnFormat(JSON)\n",
    "results = sparql.query().convert()\n",
    "results_df = pd.json_normalize(results['results']['bindings'])\n",
    "results_df = results_df.loc[:,~results_df.columns.str.contains('.type')] # removes the columns that contain '.type'\n",
    "results_df = results_df.loc[:,~results_df.columns.str.contains('.lang')] # removes the columns that contain '.lang'\n",
    "results_df[['item.value', 'itemLabel.value', 'father.value', 'fatherLabel.value']]"
   ]
  },
  {
   "cell_type": "markdown",
   "id": "56c99014",
   "metadata": {},
   "source": [
    "---"
   ]
  },
  {
   "cell_type": "markdown",
   "id": "01c22d63",
   "metadata": {},
   "source": [
    "Advanced queries:\n",
    "- [Presidents and their causes of death](https://query.wikidata.org/#%23Presidents%20and%20their%20causes%20of%20death%20ranking%0A%23defaultView%3ABubbleChart%0ASELECT%20%3Fcid%20%3Fcause%20%28count%28%2a%29%20as%20%3Fcount%29%0AWHERE%0A%7B%0A%20%20%3Fpid%20wdt%3AP39%20wd%3AQ11696%20.%0A%20%20%3Fpid%20wdt%3AP509%20%3Fcid%20.%0A%20%20OPTIONAL%20%7B%0A%20%20%20%20%3Fcid%20rdfs%3Alabel%20%3Fcause%20FILTER%20%28lang%28%3Fcause%29%20%3D%20%22en%22%29%20.%0A%20%20%7D%0A%7D%0AGROUP%20BY%20%3Fcid%20%3Fcause%0AORDER%20BY%20DESC%28%3Fcount%29%20ASC%28%3Fcause%29)\n",
    "- [Greek policians after 1900 and are still alive, along with their place of birth](https://query.wikidata.org/#SELECT%20%3Fitem%20%3FitemLabel%20%3Fbirthplace%20%3FbirthplaceLabel%20%3Fgeo%0AWHERE%0A%7B%0A%20%20%20%20%3Fitem%20wdt%3AP31%20wd%3AQ5%20.%20%23%20instance%20of%20human%0A%20%20%20%20%3Fitem%20wdt%3AP27%20wd%3AQ41%20.%20%23%20citizenship%20Greece%0A%20%20%20%20%3Fitem%20wdt%3AP106%20wd%3AQ82955%20.%20%23%20occupation%20politician%0A%20%20%20%20%0A%20%20%20%20%3Fitem%20wdt%3AP19%20%3Fbirthplace%20.%0A%20%20%20%20%3Fbirthplace%20wdt%3AP625%20%3Fgeo%20.%0A%20%20%20%20%20%20%20%20%0A%20%20%20%20%0A%20%20%20%20%3Fitem%20wdt%3AP569%20%3Fbirthdate%20.%20%20%23%20date%20of%20birth%0A%20%20%20%20%0A%20%20%20%20FILTER%28YEAR%28%3Fbirthdate%29%20%3E%201900%29%0A%20%20%0A%20%20%20%20SERVICE%20wikibase%3Alabel%20%7B%20bd%3AserviceParam%20wikibase%3Alanguage%20%22en%22%20%7D%0A%7D%0A)"
   ]
  },
  {
   "cell_type": "markdown",
   "id": "bcf962a2",
   "metadata": {},
   "source": [
    "#### Athenian writers of fifth-century BCE"
   ]
  },
  {
   "cell_type": "code",
   "execution_count": null,
   "id": "0fd36b34",
   "metadata": {
    "scrolled": true
   },
   "outputs": [],
   "source": [
    "sparql.setQuery(\"\"\"\n",
    "\n",
    "\n",
    "\"\"\")\n",
    "sparql.setReturnFormat(JSON)\n",
    "results = sparql.query().convert()\n",
    "results_df = pd.json_normalize(results['results']['bindings'])\n",
    "results_df = results_df.loc[:,~results_df.columns.str.contains('.type')] # removes the columns that contain '.type'\n",
    "results_df = results_df.loc[:,~results_df.columns.str.contains('.lang')] # removes the columns that contain '.lang'\n",
    "results_df"
   ]
  },
  {
   "cell_type": "markdown",
   "id": "13968ea4",
   "metadata": {},
   "source": [
    "---"
   ]
  },
  {
   "cell_type": "markdown",
   "id": "15ada6a0",
   "metadata": {},
   "source": [
    "#### Use Wikidata API to search for entities (items or properties)"
   ]
  },
  {
   "cell_type": "code",
   "execution_count": null,
   "id": "6f24c26d",
   "metadata": {},
   "outputs": [],
   "source": [
    "import requests\n",
    "\n",
    "def search_entities(search_string, entity_type, language='en'):\n",
    "    endpoint_url = \"https://www.wikidata.org/w/api.php\"\n",
    "\n",
    "    # Define the parameters for the API call\n",
    "    params = {\n",
    "        'action': 'wbsearchentities',\n",
    "        'format': 'json',\n",
    "        'search': search_string,\n",
    "        'type': entity_type,\n",
    "        'language': language   \n",
    "    }\n",
    "\n",
    "    # Make the API call\n",
    "    response = requests.get(endpoint_url, params=params)\n",
    "    data = response.json()\n",
    "\n",
    "    # Extract and return entity IDs and labels\n",
    "    entities = data.get('search', [])\n",
    "    return entities\n",
    "\n",
    "def display_entities(entities, entity_type):\n",
    "    print(f\"\\n{entity_type.capitalize()}:\")\n",
    "    for entity in entities:\n",
    "        print(f\"Entity ID: {entity['id']} - Label: {entity['label']} - Description: {entity['display']['description']['value']} - {entity['concepturi']}\")\n",
    "\n",
    "if __name__ == \"__main__\":\n",
    "    search_string = input(\"Enter the string to search for: \")\n",
    "    \n",
    "    # Search for items\n",
    "    items = search_entities(search_string, 'item')\n",
    "    display_entities(items, 'items')\n",
    "\n",
    "    # Search for properties\n",
    "    properties = search_entities(search_string, 'property')\n",
    "    display_entities(properties, 'properties')"
   ]
  },
  {
   "cell_type": "markdown",
   "id": "ccb5bc04",
   "metadata": {},
   "source": [
    "---"
   ]
  }
 ],
 "metadata": {
  "kernelspec": {
   "display_name": "Python 3 (ipykernel)",
   "language": "python",
   "name": "python3"
  },
  "language_info": {
   "codemirror_mode": {
    "name": "ipython",
    "version": 3
   },
   "file_extension": ".py",
   "mimetype": "text/x-python",
   "name": "python",
   "nbconvert_exporter": "python",
   "pygments_lexer": "ipython3",
   "version": "3.9.18"
  }
 },
 "nbformat": 4,
 "nbformat_minor": 5
}
