{
 "cells": [
  {
   "cell_type": "markdown",
   "id": "92898221",
   "metadata": {},
   "source": [
    "## Strings"
   ]
  },
  {
   "cell_type": "markdown",
   "id": "87cbfbce",
   "metadata": {},
   "source": [
    "##### Write a function that returns the first and the last character of a string as one string. Test your function by calling it with the followung string."
   ]
  },
  {
   "cell_type": "code",
   "execution_count": 8,
   "id": "3e21e6cf",
   "metadata": {},
   "outputs": [],
   "source": [
    "sentence = \"Slice notation in Python is used for selecting a range of items from a sequence such as a list, tuple, or string.\""
   ]
  },
  {
   "cell_type": "code",
   "execution_count": 10,
   "id": "9f12cb24",
   "metadata": {},
   "outputs": [
    {
     "name": "stdout",
     "output_type": "stream",
     "text": [
      "S.\n"
     ]
    }
   ],
   "source": [
    "alphaomega = sentence[0]+sentence[-1]\n",
    "print(alphaomega)"
   ]
  },
  {
   "cell_type": "markdown",
   "id": "1db58c77",
   "metadata": {},
   "source": [
    "##### Write a function that takes a string as input and returns its a palindrome."
   ]
  },
  {
   "cell_type": "code",
   "execution_count": 12,
   "id": "c7a67cbb",
   "metadata": {},
   "outputs": [
    {
     "name": "stdout",
     "output_type": "stream",
     "text": [
      "Slice notation in Python is used for selecting a range of items from a sequence such as a list, tuple, or string..gnirts ro ,elput ,tsil a sa hcus ecneuqes a morf smeti fo egnar a gnitceles rof desu si nohtyP ni noitaton ecilS\n"
     ]
    }
   ],
   "source": [
    "palindrome = sentence + sentence[::-1]\n",
    "print(palindrome)"
   ]
  },
  {
   "cell_type": "markdown",
   "id": "508ef76f",
   "metadata": {},
   "source": [
    "## Lists"
   ]
  },
  {
   "cell_type": "code",
   "execution_count": 2,
   "id": "64afa51c",
   "metadata": {},
   "outputs": [],
   "source": [
    "mylist = ['John', 'Maria', 'Ted', 'Nick', 'Albert', 'John', 'Catherine']"
   ]
  },
  {
   "cell_type": "markdown",
   "id": "6f8d562f",
   "metadata": {},
   "source": [
    "#### Add the name Jim to the list and print the list"
   ]
  },
  {
   "cell_type": "code",
   "execution_count": 4,
   "id": "73e36caa",
   "metadata": {},
   "outputs": [
    {
     "name": "stdout",
     "output_type": "stream",
     "text": [
      "['John', 'Maria', 'Ted', 'Nick', 'Albert', 'John', 'Catherine', 'Jim']\n"
     ]
    }
   ],
   "source": [
    "mylist.append('Jim')\n",
    "print(mylist)"
   ]
  },
  {
   "cell_type": "markdown",
   "id": "8d1be93c",
   "metadata": {},
   "source": [
    "#### Insert the name Bod to the 2nd place in the list and print the list"
   ]
  },
  {
   "cell_type": "code",
   "execution_count": 5,
   "id": "68fb9177",
   "metadata": {},
   "outputs": [
    {
     "name": "stdout",
     "output_type": "stream",
     "text": [
      "['John', 'Bod', 'Maria', 'Ted', 'Nick', 'Albert', 'John', 'Catherine', 'Jim']\n"
     ]
    }
   ],
   "source": [
    "mylist.insert(1,'Bod')\n",
    "print(mylist)"
   ]
  },
  {
   "cell_type": "markdown",
   "id": "312aa5f2",
   "metadata": {},
   "source": [
    "#### Remove Ted from the list and print the list"
   ]
  },
  {
   "cell_type": "code",
   "execution_count": 6,
   "id": "06c2fa44",
   "metadata": {},
   "outputs": [
    {
     "name": "stdout",
     "output_type": "stream",
     "text": [
      "['John', 'Bod', 'Maria', 'Nick', 'Albert', 'John', 'Catherine', 'Jim']\n"
     ]
    }
   ],
   "source": [
    "mylist.remove('Ted')\n",
    "print(mylist)"
   ]
  },
  {
   "cell_type": "markdown",
   "id": "ac7e2efb",
   "metadata": {},
   "source": [
    "##### Write a function that reverses the order of the list"
   ]
  },
  {
   "cell_type": "code",
   "execution_count": 13,
   "id": "51e7c40f",
   "metadata": {},
   "outputs": [
    {
     "name": "stdout",
     "output_type": "stream",
     "text": [
      "['Jim', 'Catherine', 'John', 'Albert', 'Nick', 'Maria', 'Bod', 'John']\n"
     ]
    }
   ],
   "source": [
    "reverselist = mylist[::-1]\n",
    "print(reverselist)"
   ]
  },
  {
   "cell_type": "markdown",
   "id": "a9d7b7c8",
   "metadata": {},
   "source": [
    "## Functions"
   ]
  },
  {
   "cell_type": "markdown",
   "id": "aec927ed",
   "metadata": {},
   "source": [
    "##### Write a Python function called `calculate_circle_area` that takes the radius of a circle as an argument and returns the area of the circle. The formula for the area of a circle is π × radius<sup>2</sup>."
   ]
  },
  {
   "cell_type": "code",
   "execution_count": null,
   "id": "4c42cb24",
   "metadata": {},
   "outputs": [],
   "source": []
  },
  {
   "cell_type": "code",
   "execution_count": null,
   "id": "3e279b65",
   "metadata": {},
   "outputs": [],
   "source": [
    "# Test the function\n",
    "radius = 5\n",
    "area = calculate_circle_area(radius)\n",
    "print(f\"The area of a circle with radius {radius} is {area:.2f}\")"
   ]
  },
  {
   "cell_type": "markdown",
   "id": "043319c4",
   "metadata": {},
   "source": [
    "##### Illinois' general state retailers' occupation and use tax rates are:\n",
    "- 6.25 percent on general merchandise, including items required to be titled or registered by an agency of Illinois state government; and\n",
    "- 1 percent on qualifying foods, drugs, and medical appliances. \n",
    "\n",
    "Write two Python functions, named `tax_merchandise` and `tax_food` that calculate the above taxes respectively.  "
   ]
  },
  {
   "cell_type": "code",
   "execution_count": null,
   "id": "73abf46d",
   "metadata": {},
   "outputs": [],
   "source": []
  },
  {
   "cell_type": "markdown",
   "id": "2805fa8d",
   "metadata": {},
   "source": [
    "---"
   ]
  }
 ],
 "metadata": {
  "kernelspec": {
   "display_name": "Python 3 (ipykernel)",
   "language": "python",
   "name": "python3"
  },
  "language_info": {
   "codemirror_mode": {
    "name": "ipython",
    "version": 3
   },
   "file_extension": ".py",
   "mimetype": "text/x-python",
   "name": "python",
   "nbconvert_exporter": "python",
   "pygments_lexer": "ipython3",
   "version": "3.11.5"
  }
 },
 "nbformat": 4,
 "nbformat_minor": 5
}
