{
 "cells": [
  {
   "cell_type": "markdown",
   "id": "c81a9caf",
   "metadata": {},
   "source": [
    "## Dictionaries"
   ]
  },
  {
   "cell_type": "code",
   "execution_count": null,
   "id": "9112bef3",
   "metadata": {},
   "outputs": [],
   "source": [
    "persons = {\n",
    "    \"first\": \"John\",\n",
    "    \"last\": \"Smith\",\n",
    "    \"email\": \"johnsmith@gmail.com\"\n",
    "}"
   ]
  },
  {
   "cell_type": "code",
   "execution_count": null,
   "id": "61eef1f0",
   "metadata": {},
   "outputs": [],
   "source": [
    "print(persons)"
   ]
  },
  {
   "cell_type": "markdown",
   "id": "06f0ad91",
   "metadata": {},
   "source": [
    "#### Create a dictionary"
   ]
  },
  {
   "cell_type": "code",
   "execution_count": null,
   "id": "635ec654",
   "metadata": {},
   "outputs": [],
   "source": [
    "my_dict = {'name': 'John', \n",
    "           'age': 25, \n",
    "           'city': 'New York', \n",
    "           'grade': 'A', \n",
    "           'is_student': True}"
   ]
  },
  {
   "cell_type": "markdown",
   "id": "2fbd4874",
   "metadata": {},
   "source": [
    "#### Accessing Values: Write a program that accesses and prints values from the dictionary created above"
   ]
  },
  {
   "cell_type": "code",
   "execution_count": null,
   "id": "d4051027",
   "metadata": {},
   "outputs": [],
   "source": []
  },
  {
   "cell_type": "markdown",
   "id": "c8f30f99",
   "metadata": {},
   "source": [
    "#### Dictionary Manipulation: Add a new key-value pair to `my_dict`. Then, update the value of an existing key."
   ]
  },
  {
   "cell_type": "code",
   "execution_count": null,
   "id": "37b13753",
   "metadata": {},
   "outputs": [],
   "source": []
  },
  {
   "cell_type": "markdown",
   "id": "28a5a173",
   "metadata": {},
   "source": [
    "#### Print Keys and Values: Write a program to print all keys and values from `my_dict` separately."
   ]
  },
  {
   "cell_type": "code",
   "execution_count": null,
   "id": "c51e2891",
   "metadata": {},
   "outputs": [],
   "source": []
  },
  {
   "cell_type": "markdown",
   "id": "d4b87a3d",
   "metadata": {},
   "source": [
    "#### Check if Key Exists: Write a program that checks if a specific key exists in `my_dict`."
   ]
  },
  {
   "cell_type": "code",
   "execution_count": null,
   "id": "ee82b71a",
   "metadata": {},
   "outputs": [],
   "source": []
  },
  {
   "cell_type": "markdown",
   "id": "fdd7911a",
   "metadata": {},
   "source": [
    "#### Remove a Key: Remove one key-value pair from `my_dict` and print the updated dictionary."
   ]
  },
  {
   "cell_type": "code",
   "execution_count": null,
   "id": "124b77bb",
   "metadata": {},
   "outputs": [],
   "source": []
  },
  {
   "cell_type": "markdown",
   "id": "0cf92b6e",
   "metadata": {},
   "source": [
    "#### Loop Through Dictionary: Write a program that uses a for loop to iterate through all key-value pairs in `my_dict` and prints them."
   ]
  },
  {
   "cell_type": "code",
   "execution_count": null,
   "id": "cf56deb6",
   "metadata": {},
   "outputs": [],
   "source": []
  },
  {
   "cell_type": "markdown",
   "id": "6f133e78",
   "metadata": {},
   "source": [
    "#### Merge Dictionaries: Create a new dictionary, `new_dict`, and merge it with `my_dict`. Print the merged dictionary."
   ]
  },
  {
   "cell_type": "code",
   "execution_count": null,
   "id": "86958dc3",
   "metadata": {},
   "outputs": [],
   "source": []
  },
  {
   "cell_type": "markdown",
   "id": "7ff7dc07",
   "metadata": {},
   "source": [
    "#### Count Occurrences: Write a program that takes a string as input and counts the occurrences of each letter in the string using a dictionary."
   ]
  },
  {
   "cell_type": "code",
   "execution_count": null,
   "id": "7a323b30",
   "metadata": {},
   "outputs": [],
   "source": []
  },
  {
   "cell_type": "markdown",
   "id": "750a773f",
   "metadata": {},
   "source": [
    "#### Nested Dictionary: Create a nested dictionary with at least two levels. Access and print values from the nested dictionary."
   ]
  },
  {
   "cell_type": "code",
   "execution_count": null,
   "id": "06d599fe",
   "metadata": {},
   "outputs": [],
   "source": [
    "nested_dict = {'person': \n",
    "               {'name': 'Alice', 'age': 30, 'address': \n",
    "                {'city': 'Wonderland', 'zip': '12345'}\n",
    "               }\n",
    "              }\n",
    "print(nested_dict['person']['address']['city'])"
   ]
  },
  {
   "cell_type": "markdown",
   "id": "e9669ae7",
   "metadata": {},
   "source": [
    "---"
   ]
  },
  {
   "cell_type": "markdown",
   "id": "8ac622dd",
   "metadata": {},
   "source": [
    "## Set"
   ]
  },
  {
   "cell_type": "markdown",
   "id": "f4f31a6f",
   "metadata": {},
   "source": [
    "#### Make mylist a set"
   ]
  },
  {
   "cell_type": "code",
   "execution_count": null,
   "id": "7e635d02",
   "metadata": {},
   "outputs": [],
   "source": [
    "my_list = [1, 2, 3, 4, 2, 5, 6, 3, 7, 8, 9, 4]"
   ]
  },
  {
   "cell_type": "code",
   "execution_count": null,
   "id": "bc4e2ef9",
   "metadata": {},
   "outputs": [],
   "source": []
  },
  {
   "cell_type": "markdown",
   "id": "8de22c2b",
   "metadata": {},
   "source": [
    "#### Make mylist again a list"
   ]
  },
  {
   "cell_type": "code",
   "execution_count": null,
   "id": "89cf1746",
   "metadata": {},
   "outputs": [],
   "source": []
  },
  {
   "cell_type": "markdown",
   "id": "1c23b3c4",
   "metadata": {},
   "source": [
    "---"
   ]
  },
  {
   "cell_type": "markdown",
   "id": "5fee1e86",
   "metadata": {},
   "source": [
    "## Read and Write to files"
   ]
  },
  {
   "cell_type": "markdown",
   "id": "c4eb7e42",
   "metadata": {},
   "source": [
    "### Read"
   ]
  },
  {
   "cell_type": "code",
   "execution_count": 6,
   "id": "5c3a6090",
   "metadata": {},
   "outputs": [
    {
     "name": "stdout",
     "output_type": "stream",
     "text": [
      "['This is a test!! Hello']\n"
     ]
    }
   ],
   "source": [
    "f = open(\"test.txt\", 'r')\n",
    "mytext = f.readlines()\n",
    "f.close()\n",
    "print(mytext)"
   ]
  },
  {
   "cell_type": "code",
   "execution_count": 8,
   "id": "c32242cd",
   "metadata": {},
   "outputs": [
    {
     "name": "stdout",
     "output_type": "stream",
     "text": [
      "['This is a test!! Hello\\n', '\\n', 'Great that you can read this text file in python! \\n', 'Time to do some work!']\n"
     ]
    }
   ],
   "source": [
    "with open(\"test.txt\", \"r\") as f:\n",
    "    text = f.readlines()\n",
    "print(text)"
   ]
  },
  {
   "cell_type": "code",
   "execution_count": null,
   "id": "134872ad",
   "metadata": {},
   "outputs": [],
   "source": []
  },
  {
   "cell_type": "code",
   "execution_count": null,
   "id": "09823d37",
   "metadata": {},
   "outputs": [],
   "source": []
  },
  {
   "cell_type": "markdown",
   "id": "dca53fe0",
   "metadata": {},
   "source": [
    "### Write"
   ]
  },
  {
   "cell_type": "code",
   "execution_count": null,
   "id": "ac498cfe",
   "metadata": {},
   "outputs": [],
   "source": []
  },
  {
   "cell_type": "code",
   "execution_count": null,
   "id": "13707ca2",
   "metadata": {},
   "outputs": [],
   "source": []
  },
  {
   "cell_type": "code",
   "execution_count": null,
   "id": "eb9d4e12",
   "metadata": {},
   "outputs": [],
   "source": []
  },
  {
   "cell_type": "markdown",
   "id": "993949bb",
   "metadata": {},
   "source": [
    "---"
   ]
  },
  {
   "cell_type": "markdown",
   "id": "0c8e2ac7",
   "metadata": {},
   "source": [
    "## Pandas and CSV/EXCEL"
   ]
  },
  {
   "cell_type": "markdown",
   "id": "77233ab4",
   "metadata": {},
   "source": [
    "#### Libraries - Imports"
   ]
  },
  {
   "cell_type": "code",
   "execution_count": null,
   "id": "20aa59fd",
   "metadata": {},
   "outputs": [],
   "source": [
    "# pip install pandas"
   ]
  },
  {
   "cell_type": "code",
   "execution_count": null,
   "id": "dd048359",
   "metadata": {},
   "outputs": [],
   "source": [
    "import os\n",
    "import pandas as pd # This is a convention in Python community."
   ]
  },
  {
   "cell_type": "markdown",
   "id": "8af336a0",
   "metadata": {},
   "source": [
    "#### Read"
   ]
  },
  {
   "cell_type": "markdown",
   "id": "4c8ddf8e",
   "metadata": {},
   "source": [
    "Download the csv of [Roman Amphitheaters](https://github.com/roman-amphitheaters/roman-amphitheaters/blob/main/roman-amphitheaters.csv)"
   ]
  },
  {
   "cell_type": "code",
   "execution_count": null,
   "id": "365363bb",
   "metadata": {},
   "outputs": [],
   "source": [
    "df = pd.read_csv('.csv') # df stands for dataframe, i.e., row and columns of data."
   ]
  },
  {
   "cell_type": "code",
   "execution_count": null,
   "id": "c20c15a1",
   "metadata": {},
   "outputs": [],
   "source": []
  },
  {
   "cell_type": "code",
   "execution_count": null,
   "id": "957b78fd",
   "metadata": {},
   "outputs": [],
   "source": []
  },
  {
   "cell_type": "code",
   "execution_count": null,
   "id": "9703070c",
   "metadata": {},
   "outputs": [],
   "source": []
  },
  {
   "cell_type": "markdown",
   "id": "682c9941",
   "metadata": {},
   "source": [
    "#### Data types in our csv"
   ]
  },
  {
   "cell_type": "code",
   "execution_count": null,
   "id": "eca38ded",
   "metadata": {},
   "outputs": [],
   "source": [
    "df.shape # notice that this is an attribute so no parentheses"
   ]
  },
  {
   "cell_type": "code",
   "execution_count": null,
   "id": "caada7ac",
   "metadata": {},
   "outputs": [],
   "source": [
    "df.info() # notice that this is a methon, so we need parentheses"
   ]
  },
  {
   "cell_type": "code",
   "execution_count": null,
   "id": "f1f2b695",
   "metadata": {},
   "outputs": [],
   "source": [
    "pd.set_option('display.max_rows', 500)\n",
    "pd.set_option('display.max_columns', 500)\n",
    "pd.set_option('display.width', 1000)"
   ]
  }
 ],
 "metadata": {
  "kernelspec": {
   "display_name": "Python 3 (ipykernel)",
   "language": "python",
   "name": "python3"
  },
  "language_info": {
   "codemirror_mode": {
    "name": "ipython",
    "version": 3
   },
   "file_extension": ".py",
   "mimetype": "text/x-python",
   "name": "python",
   "nbconvert_exporter": "python",
   "pygments_lexer": "ipython3",
   "version": "3.11.5"
  }
 },
 "nbformat": 4,
 "nbformat_minor": 5
}
