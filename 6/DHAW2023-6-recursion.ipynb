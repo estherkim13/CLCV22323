{
 "cells": [
  {
   "cell_type": "markdown",
   "id": "091e3550",
   "metadata": {},
   "source": [
    "# Recursion"
   ]
  },
  {
   "cell_type": "code",
   "execution_count": null,
   "id": "4adff4aa",
   "metadata": {},
   "outputs": [],
   "source": [
    "import time"
   ]
  },
  {
   "cell_type": "markdown",
   "id": "3d2758ba",
   "metadata": {},
   "source": [
    "#### Write a recursive function to calculate the factorial of a given number."
   ]
  },
  {
   "cell_type": "code",
   "execution_count": null,
   "id": "1cb4ee6b",
   "metadata": {},
   "outputs": [],
   "source": [
    "def fact(n):\n"
   ]
  },
  {
   "cell_type": "code",
   "execution_count": null,
   "id": "8b2ee458",
   "metadata": {},
   "outputs": [],
   "source": [
    "# start = time.time()\n",
    "# [fact(2000)*100 for _ in range(10000)]  \n",
    "# end = time.time()\n",
    "# print(end - start)    "
   ]
  },
  {
   "cell_type": "markdown",
   "id": "4b97dace",
   "metadata": {},
   "source": [
    "#### Write a recursive function to calculate the $n^{th}$ [Fibonacci number](https://en.wikipedia.org/wiki/Fibonacci_number):\n",
    "\n",
    "1, 1, 2, 3, 5, 8, 13, 21, 34"
   ]
  },
  {
   "cell_type": "code",
   "execution_count": null,
   "id": "2923fd1a",
   "metadata": {},
   "outputs": [],
   "source": [
    "def fib(n):\n",
    "  "
   ]
  },
  {
   "cell_type": "code",
   "execution_count": null,
   "id": "bb3f4a77",
   "metadata": {},
   "outputs": [],
   "source": [
    "fib(9)"
   ]
  },
  {
   "cell_type": "code",
   "execution_count": null,
   "id": "5062a316",
   "metadata": {},
   "outputs": [],
   "source": [
    "# for i in range(100):\n",
    "#     print(f\"{i}: {fib(i)}\")"
   ]
  },
  {
   "cell_type": "markdown",
   "id": "6409cc02",
   "metadata": {},
   "source": [
    "#### Implement a recursive function to calculate the power of a number, given the base and exponent."
   ]
  },
  {
   "cell_type": "code",
   "execution_count": null,
   "id": "5a234f06",
   "metadata": {},
   "outputs": [],
   "source": [
    "def power(base, exponent):\n"
   ]
  },
  {
   "cell_type": "code",
   "execution_count": null,
   "id": "6256a040",
   "metadata": {},
   "outputs": [],
   "source": [
    "power(2, 5)"
   ]
  },
  {
   "cell_type": "markdown",
   "id": "28165d6e",
   "metadata": {},
   "source": [
    "#### Write a recursive function to check if a given string is a palindrome."
   ]
  },
  {
   "cell_type": "code",
   "execution_count": null,
   "id": "572af197",
   "metadata": {},
   "outputs": [],
   "source": [
    "def is_palindrome(s):\n"
   ]
  },
  {
   "cell_type": "markdown",
   "id": "4d4c5a23",
   "metadata": {},
   "source": [
    "#### Write a recursive function to find the Greatest Common Divisor (GCD) of two numbers."
   ]
  },
  {
   "cell_type": "code",
   "execution_count": null,
   "id": "3f7d6de1",
   "metadata": {},
   "outputs": [],
   "source": [
    "def gcd(a, b):\n"
   ]
  },
  {
   "cell_type": "markdown",
   "id": "f960a8c7",
   "metadata": {},
   "source": [
    "#### Tower of Hanoi"
   ]
  },
  {
   "cell_type": "code",
   "execution_count": null,
   "id": "ad2cf1bc",
   "metadata": {},
   "outputs": [],
   "source": []
  },
  {
   "cell_type": "markdown",
   "id": "b42d5b18",
   "metadata": {},
   "source": [
    "## Τail recursion"
   ]
  },
  {
   "cell_type": "markdown",
   "id": "e43b8b9f",
   "metadata": {},
   "source": [
    "#### Factorial with tail recursion"
   ]
  },
  {
   "cell_type": "code",
   "execution_count": null,
   "id": "a72e9ac0",
   "metadata": {},
   "outputs": [],
   "source": []
  },
  {
   "cell_type": "code",
   "execution_count": null,
   "id": "c4ec5a73",
   "metadata": {},
   "outputs": [],
   "source": [
    "fact(5)"
   ]
  },
  {
   "cell_type": "code",
   "execution_count": null,
   "id": "2d412611",
   "metadata": {},
   "outputs": [],
   "source": []
  },
  {
   "cell_type": "code",
   "execution_count": null,
   "id": "fc416e30",
   "metadata": {},
   "outputs": [],
   "source": [
    "fib(20)"
   ]
  },
  {
   "cell_type": "markdown",
   "id": "431ef415",
   "metadata": {},
   "source": [
    "## Memoization"
   ]
  },
  {
   "cell_type": "markdown",
   "id": "93332f5a",
   "metadata": {},
   "source": [
    "#### Cache created manually"
   ]
  },
  {
   "cell_type": "code",
   "execution_count": null,
   "id": "51cee33c",
   "metadata": {},
   "outputs": [],
   "source": []
  },
  {
   "cell_type": "code",
   "execution_count": null,
   "id": "11c27d67",
   "metadata": {},
   "outputs": [],
   "source": []
  },
  {
   "cell_type": "code",
   "execution_count": null,
   "id": "bc0ca27e",
   "metadata": {},
   "outputs": [],
   "source": [
    "# for i in range(1, 100):\n",
    "#     print(f\"{i}: {fib(i)}\")"
   ]
  },
  {
   "cell_type": "markdown",
   "id": "a8efe00e",
   "metadata": {},
   "source": [
    "#### `lru_cache` from functools"
   ]
  },
  {
   "cell_type": "code",
   "execution_count": null,
   "id": "d09555e3",
   "metadata": {},
   "outputs": [],
   "source": [
    "from functools import lru_cache "
   ]
  },
  {
   "cell_type": "code",
   "execution_count": null,
   "id": "c46edc32",
   "metadata": {},
   "outputs": [],
   "source": [
    "# functools module provide the cache function. It's default is maxsize = 120\n",
    "# The @ is a decorator and change the behavior of function and classes.\n"
   ]
  },
  {
   "cell_type": "code",
   "execution_count": null,
   "id": "1fdbc060",
   "metadata": {},
   "outputs": [],
   "source": [
    "# for i in range(1, 1000):\n",
    "#     print(f\"{i}: {fib(i)}\")"
   ]
  },
  {
   "cell_type": "code",
   "execution_count": null,
   "id": "45fc88bb",
   "metadata": {},
   "outputs": [],
   "source": []
  },
  {
   "cell_type": "markdown",
   "id": "7a051fa4",
   "metadata": {},
   "source": [
    "---"
   ]
  }
 ],
 "metadata": {
  "kernelspec": {
   "display_name": "Python 3 (ipykernel)",
   "language": "python",
   "name": "python3"
  },
  "language_info": {
   "codemirror_mode": {
    "name": "ipython",
    "version": 3
   },
   "file_extension": ".py",
   "mimetype": "text/x-python",
   "name": "python",
   "nbconvert_exporter": "python",
   "pygments_lexer": "ipython3",
   "version": "3.9.18"
  }
 },
 "nbformat": 4,
 "nbformat_minor": 5
}
