{
 "cells": [
  {
   "cell_type": "markdown",
   "id": "c81a9caf",
   "metadata": {},
   "source": [
    "## Dictionaries"
   ]
  },
  {
   "cell_type": "code",
   "execution_count": 6,
   "id": "9112bef3",
   "metadata": {},
   "outputs": [],
   "source": []
  },
  {
   "cell_type": "code",
   "execution_count": 9,
   "id": "61eef1f0",
   "metadata": {},
   "outputs": [
    {
     "name": "stdout",
     "output_type": "stream",
     "text": [
      "{'first': 'John', 'last': 'Smith', 'email': 'johnsmith@gmail.com'}\n"
     ]
    }
   ],
   "source": []
  },
  {
   "cell_type": "markdown",
   "id": "06f0ad91",
   "metadata": {},
   "source": [
    "#### Create a dictionary"
   ]
  },
  {
   "cell_type": "code",
   "execution_count": 10,
   "id": "635ec654",
   "metadata": {},
   "outputs": [],
   "source": [
    "my_dict = {'name': 'John', 'age': 25, 'city': 'New York', 'grade': 'A', 'is_student': True}"
   ]
  },
  {
   "cell_type": "markdown",
   "id": "2fbd4874",
   "metadata": {},
   "source": [
    "#### Accessing Values: Write a program that accesses and prints values from the dictionary created above"
   ]
  },
  {
   "cell_type": "code",
   "execution_count": 11,
   "id": "d4051027",
   "metadata": {},
   "outputs": [
    {
     "name": "stdout",
     "output_type": "stream",
     "text": [
      "John\n"
     ]
    }
   ],
   "source": []
  },
  {
   "cell_type": "markdown",
   "id": "c8f30f99",
   "metadata": {},
   "source": [
    "#### Dictionary Manipulation: Add a new key-value pair to `my_dict`. Then, update the value of an existing key."
   ]
  },
  {
   "cell_type": "code",
   "execution_count": 12,
   "id": "37b13753",
   "metadata": {},
   "outputs": [],
   "source": []
  },
  {
   "cell_type": "markdown",
   "id": "28a5a173",
   "metadata": {},
   "source": [
    "#### Print Keys and Values: Write a program to print all keys and values from `my_dict` separately."
   ]
  },
  {
   "cell_type": "code",
   "execution_count": 13,
   "id": "c51e2891",
   "metadata": {},
   "outputs": [
    {
     "name": "stdout",
     "output_type": "stream",
     "text": [
      "Keys: ['name', 'age', 'city', 'grade', 'is_student', 'gender']\n",
      "Values: ['John', 26, 'New York', 'A', True, 'Male']\n"
     ]
    }
   ],
   "source": []
  },
  {
   "cell_type": "markdown",
   "id": "d4b87a3d",
   "metadata": {},
   "source": [
    "#### Check if Key Exists: Write a program that checks if a specific key exists in `my_dict`."
   ]
  },
  {
   "cell_type": "code",
   "execution_count": 14,
   "id": "ee82b71a",
   "metadata": {},
   "outputs": [
    {
     "name": "stdout",
     "output_type": "stream",
     "text": [
      "city exists in the dictionary.\n"
     ]
    }
   ],
   "source": []
  },
  {
   "cell_type": "markdown",
   "id": "fdd7911a",
   "metadata": {},
   "source": [
    "#### Remove a Key: Remove one key-value pair from `my_dict` and print the updated dictionary."
   ]
  },
  {
   "cell_type": "code",
   "execution_count": 15,
   "id": "124b77bb",
   "metadata": {},
   "outputs": [],
   "source": []
  },
  {
   "cell_type": "markdown",
   "id": "0cf92b6e",
   "metadata": {},
   "source": [
    "#### Loop Through Dictionary: Write a program that uses a for loop to iterate through all key-value pairs in `my_dict` and prints them."
   ]
  },
  {
   "cell_type": "code",
   "execution_count": 16,
   "id": "cf56deb6",
   "metadata": {},
   "outputs": [
    {
     "name": "stdout",
     "output_type": "stream",
     "text": [
      "name: John\n",
      "age: 26\n",
      "city: New York\n",
      "is_student: True\n",
      "gender: Male\n"
     ]
    }
   ],
   "source": []
  },
  {
   "cell_type": "markdown",
   "id": "6f133e78",
   "metadata": {},
   "source": [
    "#### Merge Dictionaries: Create a new dictionary, `new_dict`, and merge it with `my_dict`. Print the merged dictionary."
   ]
  },
  {
   "cell_type": "code",
   "execution_count": 17,
   "id": "86958dc3",
   "metadata": {},
   "outputs": [
    {
     "name": "stdout",
     "output_type": "stream",
     "text": [
      "{'name': 'John', 'age': 26, 'city': 'New York', 'is_student': True, 'gender': 'Male', 'occupation': 'Engineer', 'salary': 50000}\n"
     ]
    }
   ],
   "source": []
  },
  {
   "cell_type": "markdown",
   "id": "7ff7dc07",
   "metadata": {},
   "source": [
    "#### Count Occurrences: Write a program that takes a string as input and counts the occurrences of each letter in the string using a dictionary."
   ]
  },
  {
   "cell_type": "code",
   "execution_count": 18,
   "id": "7a323b30",
   "metadata": {},
   "outputs": [
    {
     "name": "stdout",
     "output_type": "stream",
     "text": [
      "{'h': 1, 'e': 1, 'l': 2, 'o': 1}\n"
     ]
    }
   ],
   "source": []
  },
  {
   "cell_type": "markdown",
   "id": "750a773f",
   "metadata": {},
   "source": [
    "#### Nested Dictionary: Create a nested dictionary with at least two levels. Access and print values from the nested dictionary."
   ]
  },
  {
   "cell_type": "code",
   "execution_count": 19,
   "id": "06d599fe",
   "metadata": {},
   "outputs": [
    {
     "name": "stdout",
     "output_type": "stream",
     "text": [
      "Wonderland\n"
     ]
    }
   ],
   "source": []
  },
  {
   "cell_type": "markdown",
   "id": "e9669ae7",
   "metadata": {},
   "source": [
    "---"
   ]
  }
 ],
 "metadata": {
  "kernelspec": {
   "display_name": "Python 3 (ipykernel)",
   "language": "python",
   "name": "python3"
  },
  "language_info": {
   "codemirror_mode": {
    "name": "ipython",
    "version": 3
   },
   "file_extension": ".py",
   "mimetype": "text/x-python",
   "name": "python",
   "nbconvert_exporter": "python",
   "pygments_lexer": "ipython3",
   "version": "3.11.5"
  }
 },
 "nbformat": 4,
 "nbformat_minor": 5
}
